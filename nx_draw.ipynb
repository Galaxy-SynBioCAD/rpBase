{
 "cells": [
  {
   "cell_type": "code",
   "execution_count": 1,
   "metadata": {},
   "outputs": [],
   "source": [
    "import rpSBML\n",
    "import rpGraph\n",
    "import rpDraw\n",
    "import matplotlib.pyplot as plt\n",
    "import networkx as nx"
   ]
  },
  {
   "cell_type": "code",
   "execution_count": 2,
   "metadata": {},
   "outputs": [],
   "source": [
    "#rpsbml = rpSBML.rpSBML('test', path='rp_1_3.sbml.xml')\n",
    "#BUG BUG in the ordering of reactions\n",
    "#rpsbml = rpSBML.rpSBML('test', path='/Users/melchior/Downloads/Galaxy1442-[FBA]/rp_3_8.sbml.xml')\n",
    "#rpsbml = rpSBML.rpSBML('test', path='/Users/melchior/Downloads/Galaxy1442-[FBA]/rp_18_1.sbml.xml')\n",
    "#rpsbml = rpSBML.rpSBML('test', path='/Users/melchior/Downloads/Galaxy1442-[FBA]/rp_16_1.sbml.xml')\n",
    "\n",
    "\n",
    "rpsbml = rpSBML.rpSBML('test', path='/Users/melchior/Downloads/rpglobalscore_101/rp_5_4.sbml.xml')"
   ]
  },
  {
   "cell_type": "code",
   "execution_count": 3,
   "metadata": {},
   "outputs": [],
   "source": [
    "pathway = [{'reactants_inchi': ['InChI=1S/C10H13N5O3/c11-9-8-10(13-3-12-9)15(4-14-8)7-1-5(17)6(2-16)18-7/h3-7,16-17H,1-2H2,(H2,11,12,13)/t5-,6+,7+/m0/s1'],\n",
    "            'products_inchi': ['InChI=1S/C6H6O2/c7-5-3-1-2-4-6(5)8/h1-4,7-8H', 'InChI=1S/C6H6O4/c7-5(8)3-1-2-4-6(9)10/h1-4H,(H,7,8)(H,9,10)/b3-1+,4-2+', 'InChI=1S/C3H6O/c1-3(2)4/h1-2H3'],\n",
    "            'cofactor_reactants': ['NADP', 'ATP'], \n",
    "            'cofactor_products': ['ADP']\n",
    "           },\n",
    "      \n",
    "           {'reactants_inchi': ['InChI=1S/C6H6O2/c7-5-3-1-2-4-6(5)8/h1-4,7-8H', 'InChI=1S/C3H6O/c1-3(2)4/h1-2H3'],\n",
    "            'products_inchi': ['InChI=1S/C3H6O/c1-3(2)4/h1-2H3'],\n",
    "            'cofactor_reactants': [], \n",
    "            'cofactor_products': []\n",
    "           },\n",
    "        \n",
    "           {'reactants_inchi': ['InChI=1S/C3H6O/c1-3(2)4/h1-2H3', 'InChI=1S/C3H5O.Zn/c1-3(2)4;/h1H2,2H3;/q-1;'],\n",
    "            'products_inchi': ['InChI=1S/C3H6O/c1-3(2)4/h1-2H3/i1+1,2+1', 'InChI=1S/C3H5O.Zn/c1-3(2)4;/h1H2,2H3;/q-1;'],\n",
    "            'cofactor_reactants': [], \n",
    "            'cofactor_products': []\n",
    "           }\n",
    "           \n",
    "          ]"
   ]
  },
  {
   "cell_type": "code",
   "execution_count": 4,
   "metadata": {},
   "outputs": [],
   "source": [
    "rpgraph = rpGraph.rpGraph(rpsbml)\n",
    "rpdraw = rpDraw.rpDraw()"
   ]
  },
  {
   "cell_type": "code",
   "execution_count": 9,
   "metadata": {},
   "outputs": [
    {
     "data": {
      "text/plain": [
       "'TARGET_0000000001__64__MNXC3'"
      ]
     },
     "execution_count": 9,
     "metadata": {},
     "output_type": "execute_result"
    }
   ],
   "source": [
    "[i for i in list(rpgraph.G.nodes) if 'TARGET' in i][0]"
   ]
  },
  {
   "cell_type": "code",
   "execution_count": 6,
   "metadata": {},
   "outputs": [],
   "source": [
    "newG, pos = rpdraw._hierarchy_pos(rpgraph.G, 'TARGET_0000000001__64__MNXC3', plot_only_central=True, filter_cofactors=True)"
   ]
  },
  {
   "cell_type": "code",
   "execution_count": 7,
   "metadata": {},
   "outputs": [
    {
     "data": {
      "text/plain": [
       "{'TARGET_0000000001__64__MNXC3': (0.5, 0),\n",
       " 'RP1': (0.5, -0.2),\n",
       " 'CMPD_0000000001__64__MNXC3': (0.16666666666666666, -0.4),\n",
       " 'RP3': (0.5, -0.6000000000000001),\n",
       " 'CMPD_0000000010__64__MNXC3': (0.5, -0.8),\n",
       " 'RP4': (0.5, -1.0),\n",
       " 'MNXM89557__64__MNXC3': (0.5, -1.2),\n",
       " 'CMPD_0000000003__64__MNXC3': (0.5, -0.4),\n",
       " 'RP2': (0.5, -0.6000000000000001),\n",
       " 'MNXM23__64__MNXC3': (0.8333333333333333, -0.4)}"
      ]
     },
     "execution_count": 7,
     "metadata": {},
     "output_type": "execute_result"
    }
   ],
   "source": [
    "pos"
   ]
  },
  {
   "cell_type": "code",
   "execution_count": 26,
   "metadata": {},
   "outputs": [],
   "source": [
    "pathway = []\n",
    "inchi_pathway = []\n",
    "ordered_y = sorted(list(set([pos[i][1] for i in pos])))\n",
    "for layer_y_loc in ordered_y:\n",
    "    ordered_x = sorted(list(set([pos[i][0] for i in pos if pos[i][1]==layer_y_loc])))\n",
    "    reaction = []\n",
    "    inchi = []\n",
    "    for layer_x_loc in ordered_x:\n",
    "        for node_id in pos:\n",
    "            if pos[node_id][1]==layer_y_loc and pos[node_id][0]==layer_x_loc:\n",
    "                n = newG.nodes.get(node_id)\n",
    "                try:\n",
    "                    inchi.append(newG.nodes.get(node_id)['brsynth']['inchi'])\n",
    "                except KeyError:\n",
    "                    pass\n",
    "                reaction.append(node_id)\n",
    "                break\n",
    "    if all([newG.nodes.get(i)['type']=='reaction' for i in reaction]):\n",
    "        continue\n",
    "    pathway.append(reaction)\n",
    "    inchi_pathway.append(inchi)"
   ]
  },
  {
   "cell_type": "code",
   "execution_count": 27,
   "metadata": {},
   "outputs": [
    {
     "data": {
      "text/plain": [
       "[['MNXM89557__64__MNXC3'],\n",
       " ['CMPD_0000000010__64__MNXC3'],\n",
       " ['CMPD_0000000001__64__MNXC3',\n",
       "  'CMPD_0000000003__64__MNXC3',\n",
       "  'MNXM23__64__MNXC3'],\n",
       " ['TARGET_0000000001__64__MNXC3']]"
      ]
     },
     "execution_count": 27,
     "metadata": {},
     "output_type": "execute_result"
    }
   ],
   "source": [
    "pathway"
   ]
  },
  {
   "cell_type": "code",
   "execution_count": 28,
   "metadata": {},
   "outputs": [
    {
     "data": {
      "text/plain": [
       "[['InChI=1S/C5H9NO4/c6-3(5(9)10)1-2-4(7)8/h3H,1-2,6H2,(H,7,8)(H,9,10)/p-1/t3-/m0/s1'],\n",
       " ['InChI=1S/C4H9NO2/c5-3-1-2-4(6)7/h1-3,5H2,(H,6,7)'],\n",
       " ['InChI=1S/C4H9NO/c5-3-1-2-4-6/h4H,1-3,5H2',\n",
       "  'InChI=1S/C3H7NO2/c1-2(4)3(5)6/h2H,4H2,1H3,(H,5,6)',\n",
       "  'InChI=1S/C3H4O3/c1-2(4)3(5)6/h1H3,(H,5,6)/p-1'],\n",
       " ['InChI=1S/C4H12N2/c5-3-1-2-4-6/h1-6H2']]"
      ]
     },
     "execution_count": 28,
     "metadata": {},
     "output_type": "execute_result"
    }
   ],
   "source": [
    "inchi_pathway"
   ]
  },
  {
   "cell_type": "code",
   "execution_count": 20,
   "metadata": {},
   "outputs": [
    {
     "data": {
      "image/png": "[encoded data removed]",
      "text/plain": [
       "<Figure size 432x288 with 1 Axes>"
      ]
     },
     "metadata": {},
     "output_type": "display_data"
    }
   ],
   "source": [
    "nx.draw_networkx(newG, pos=pos)"
   ]
  },
  {
   "cell_type": "code",
   "execution_count": null,
   "metadata": {},
   "outputs": [],
   "source": []
  },
  {
   "cell_type": "code",
   "execution_count": 9,
   "metadata": {},
   "outputs": [
    {
     "ename": "AttributeError",
     "evalue": "'rpGraph' object has no attribute '_drawPathway'",
     "output_type": "error",
     "traceback": [
      "\u001b[0;31m---------------------------------------------------------------------------\u001b[0m",
      "\u001b[0;31mAttributeError\u001b[0m                            Traceback (most recent call last)",
      "\u001b[0;32m<ipython-input-9-add315782203>\u001b[0m in \u001b[0;36m<module>\u001b[0;34m\u001b[0m\n\u001b[0;32m----> 1\u001b[0;31m \u001b[0mb\u001b[0m\u001b[0;34m,\u001b[0m \u001b[0mlen_x\u001b[0m\u001b[0;34m,\u001b[0m \u001b[0mlen_y\u001b[0m \u001b[0;34m=\u001b[0m \u001b[0mrpgraph\u001b[0m\u001b[0;34m.\u001b[0m\u001b[0m_drawPathway\u001b[0m\u001b[0;34m(\u001b[0m\u001b[0mpathway\u001b[0m\u001b[0;34m,\u001b[0m \u001b[0marrow_gap_size\u001b[0m\u001b[0;34m=\u001b[0m\u001b[0;36m50\u001b[0m\u001b[0;34m,\u001b[0m \u001b[0mreact_arrow_size\u001b[0m\u001b[0;34m=\u001b[0m\u001b[0;36m30\u001b[0m\u001b[0;34m)\u001b[0m\u001b[0;34m\u001b[0m\u001b[0;34m\u001b[0m\u001b[0m\n\u001b[0m\u001b[1;32m      2\u001b[0m \u001b[0mopen\u001b[0m\u001b[0;34m(\u001b[0m\u001b[0;34m'test_pathway.svg'\u001b[0m\u001b[0;34m,\u001b[0m \u001b[0;34m'w'\u001b[0m\u001b[0;34m)\u001b[0m\u001b[0;34m.\u001b[0m\u001b[0mwrite\u001b[0m\u001b[0;34m(\u001b[0m\u001b[0mb\u001b[0m\u001b[0;34m)\u001b[0m\u001b[0;34m\u001b[0m\u001b[0;34m\u001b[0m\u001b[0m\n",
      "\u001b[0;31mAttributeError\u001b[0m: 'rpGraph' object has no attribute '_drawPathway'"
     ]
    }
   ],
   "source": [
    "b, len_x, len_y = rpgraph._drawPathway(pathway, arrow_gap_size=50, react_arrow_size=30)\n",
    "open('test_pathway.svg', 'w').write(b)"
   ]
  },
  {
   "cell_type": "code",
   "execution_count": null,
   "metadata": {},
   "outputs": [],
   "source": []
  }
 ],
 "metadata": {
  "kernelspec": {
   "display_name": "Python 3",
   "language": "python",
   "name": "python3"
  },
  "language_info": {
   "codemirror_mode": {
    "name": "ipython",
    "version": 3
   },
   "file_extension": ".py",
   "mimetype": "text/x-python",
   "name": "python",
   "nbconvert_exporter": "python",
   "pygments_lexer": "ipython3",
   "version": "3.6.12"
  }
 },
 "nbformat": 4,
 "nbformat_minor": 4
}
