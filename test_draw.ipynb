{
 "cells": [
  {
   "cell_type": "code",
   "execution_count": 1,
   "metadata": {},
   "outputs": [],
   "source": [
    "import rpSBML\n",
    "import rpGraph"
   ]
  },
  {
   "cell_type": "code",
   "execution_count": 2,
   "metadata": {},
   "outputs": [],
   "source": [
    "inchi1 = 'InChI=1S/C10H13N5O3/c11-9-8-10(13-3-12-9)15(4-14-8)7-1-5(17)6(2-16)18-7/h3-7,16-17H,1-2H2,(H2,11,12,13)/t5-,6+,7+/m0/s1'\n",
    "inchi2 = 'InChI=1S/C6H6O4/c7-5(8)3-1-2-4-6(9)10/h1-4H,(H,7,8)(H,9,10)/b3-1+,4-2+'\n",
    "inchi3 = 'InChI=1S/C6H6O2/c7-5-3-1-2-4-6(5)8/h1-4,7-8H'\n",
    "inchi4 = 'InChI=1S/C21H30N7O17P3/c22-17-12-19(25-7-24-17)28(8-26-12)21-16(44-46(33,34)35)14(30)11(43-21)6-41-48(38,39)45-47(36,37)40-5-10-13(29)15(31)20(42-10)27-3-1-2-9(4-27)18(23)32/h1,3-4,7-8,10-11,13-16,20-21,29-31H,2,5-6H2,(H2,23,32)(H,36,37)(H,38,39)(H2,22,24,25)(H2,33,34,35)/t10-,11-,13-,14-,15-,16-,20-,21-/m1/s1'"
   ]
  },
  {
   "cell_type": "code",
   "execution_count": 9,
   "metadata": {},
   "outputs": [
    {
     "name": "stderr",
     "output_type": "stream",
     "text": [
      "DEBUG:rpSBML:Started instance of rpSBML\n",
      "DEBUG:rpGraph:Started instance of rpGraph\n"
     ]
    }
   ],
   "source": [
    "#rpsbml = rpSBML.rpSBML('test', path='rp_1_3.sbml.xml')\n",
    "#BUG BUG in the ordering of reactions\n",
    "#rpsbml = rpSBML.rpSBML('test', path='/Users/melchior/Downloads/Galaxy1442-[FBA]/rp_3_8.sbml.xml')\n",
    "#rpsbml = rpSBML.rpSBML('test', path='/Users/melchior/Downloads/Galaxy1442-[FBA]/rp_18_1.sbml.xml')\n",
    "#rpsbml = rpSBML.rpSBML('test', path='/Users/melchior/Downloads/Galaxy1442-[FBA]/rp_16_1.sbml.xml')\n",
    "\n",
    "\n",
    "rpsbml = rpSBML.rpSBML('test', path='/Users/melchior/Downloads/rpglobalscore_101/rp_5_4.sbml.xml')\n",
    "\n",
    "\n",
    "rpgraph = rpGraph.rpGraph(rpsbml)"
   ]
  },
  {
   "cell_type": "code",
   "execution_count": 10,
   "metadata": {},
   "outputs": [
    {
     "name": "stdout",
     "output_type": "stream",
     "text": [
      "TARGET_0000000001__64__MNXC3\n",
      "MNXM23__64__MNXC3\n",
      "CMPD_0000000001__64__MNXC3\n",
      "CMPD_0000000003__64__MNXC3\n",
      "MNXM2__64__MNXC3\n",
      "MNXM15__64__MNXC3\n",
      "MNXM861__64__MNXC3\n",
      "MNXM1__64__MNXC3\n",
      "MNXM5__64__MNXC3\n",
      "CMPD_0000000010__64__MNXC3\n",
      "MNXM6__64__MNXC3\n",
      "MNXM161__64__MNXC3\n",
      "MNXM13__64__MNXC3\n",
      "MNXM89557__64__MNXC3\n",
      "RP1\n",
      "RP2\n",
      "RP3\n",
      "RP4\n"
     ]
    }
   ],
   "source": [
    "for i in rpgraph.G.nodes:\n",
    "    print(i)"
   ]
  },
  {
   "cell_type": "code",
   "execution_count": 11,
   "metadata": {},
   "outputs": [
    {
     "name": "stderr",
     "output_type": "stream",
     "text": [
      "DEBUG:rpGraph:-------- MNXM15__64__MNXC3 --> [] ----------\n",
      "DEBUG:rpGraph:flat_reac_list: []\n",
      "DEBUG:rpGraph:current_reac_list: []\n",
      "DEBUG:rpGraph:succ_node_list: ['RP2']\n",
      "DEBUG:rpGraph:multi_reac: ['RP2']\n",
      "DEBUG:rpGraph:multi_reac: ['RP2']\n",
      "DEBUG:rpGraph:current_reac_list: [['RP2']]\n",
      "DEBUG:rpGraph:-------- RP2 --> [['RP2']] ----------\n",
      "DEBUG:rpGraph:flat_reac_list: ['RP2']\n",
      "DEBUG:rpGraph:current_reac_list: [['RP2']]\n",
      "DEBUG:rpGraph:succ_node_list: ['CMPD_0000000003__64__MNXC3', 'MNXM2__64__MNXC3']\n",
      "DEBUG:rpGraph:multi_reac: []\n",
      "DEBUG:rpGraph:multi_reac: []\n",
      "DEBUG:rpGraph:current_reac_list: [['RP2']]\n",
      "DEBUG:rpGraph:-------- CMPD_0000000003__64__MNXC3 --> [['RP2']] ----------\n",
      "DEBUG:rpGraph:flat_reac_list: ['RP2']\n",
      "DEBUG:rpGraph:current_reac_list: [['RP2']]\n",
      "DEBUG:rpGraph:succ_node_list: ['RP1']\n",
      "DEBUG:rpGraph:multi_reac: ['RP1']\n",
      "DEBUG:rpGraph:multi_reac: ['RP1']\n",
      "DEBUG:rpGraph:current_reac_list: [['RP2'], ['RP1']]\n",
      "DEBUG:rpGraph:-------- RP1 --> [['RP2'], ['RP1']] ----------\n",
      "DEBUG:rpGraph:flat_reac_list: ['RP2', 'RP1']\n",
      "DEBUG:rpGraph:current_reac_list: [['RP2'], ['RP1']]\n",
      "DEBUG:rpGraph:succ_node_list: ['TARGET_0000000001__64__MNXC3', 'MNXM23__64__MNXC3']\n",
      "DEBUG:rpGraph:multi_reac: []\n",
      "DEBUG:rpGraph:multi_reac: []\n",
      "DEBUG:rpGraph:current_reac_list: [['RP2'], ['RP1']]\n",
      "DEBUG:rpGraph:-------- TARGET_0000000001__64__MNXC3 --> [['RP2'], ['RP1']] ----------\n",
      "DEBUG:rpGraph:flat_reac_list: ['RP2', 'RP1']\n",
      "DEBUG:rpGraph:current_reac_list: [['RP2'], ['RP1']]\n",
      "DEBUG:rpGraph:succ_node_list: []\n",
      "DEBUG:rpGraph:-------- MNXM23__64__MNXC3 --> [['RP2'], ['RP1']] ----------\n",
      "DEBUG:rpGraph:flat_reac_list: ['RP2', 'RP1']\n",
      "DEBUG:rpGraph:current_reac_list: [['RP2'], ['RP1']]\n",
      "DEBUG:rpGraph:succ_node_list: ['RP2']\n",
      "DEBUG:rpGraph:multi_reac: []\n",
      "DEBUG:rpGraph:multi_reac: []\n",
      "DEBUG:rpGraph:current_reac_list: [['RP2'], ['RP1']]\n",
      "WARNING:rpGraph:Successors no results\n",
      "DEBUG:rpGraph:-------- MNXM6__64__MNXC3 --> [] ----------\n",
      "DEBUG:rpGraph:flat_reac_list: []\n",
      "DEBUG:rpGraph:current_reac_list: []\n",
      "DEBUG:rpGraph:succ_node_list: ['RP3']\n",
      "DEBUG:rpGraph:multi_reac: ['RP3']\n",
      "DEBUG:rpGraph:multi_reac: ['RP3']\n",
      "DEBUG:rpGraph:current_reac_list: [['RP3']]\n",
      "DEBUG:rpGraph:-------- RP3 --> [['RP3']] ----------\n",
      "DEBUG:rpGraph:flat_reac_list: ['RP3']\n",
      "DEBUG:rpGraph:current_reac_list: [['RP3']]\n",
      "DEBUG:rpGraph:succ_node_list: ['CMPD_0000000001__64__MNXC3', 'MNXM5__64__MNXC3', 'MNXM2__64__MNXC3']\n",
      "DEBUG:rpGraph:multi_reac: []\n",
      "DEBUG:rpGraph:multi_reac: []\n",
      "DEBUG:rpGraph:current_reac_list: [['RP3']]\n",
      "DEBUG:rpGraph:-------- CMPD_0000000001__64__MNXC3 --> [['RP3']] ----------\n",
      "DEBUG:rpGraph:flat_reac_list: ['RP3']\n",
      "DEBUG:rpGraph:current_reac_list: [['RP3']]\n",
      "DEBUG:rpGraph:succ_node_list: ['RP1']\n",
      "DEBUG:rpGraph:multi_reac: ['RP1']\n",
      "DEBUG:rpGraph:multi_reac: ['RP1']\n",
      "DEBUG:rpGraph:current_reac_list: [['RP3'], ['RP1']]\n",
      "DEBUG:rpGraph:-------- RP1 --> [['RP3'], ['RP1']] ----------\n",
      "DEBUG:rpGraph:flat_reac_list: ['RP3', 'RP1']\n",
      "DEBUG:rpGraph:current_reac_list: [['RP3'], ['RP1']]\n",
      "DEBUG:rpGraph:succ_node_list: ['TARGET_0000000001__64__MNXC3', 'MNXM23__64__MNXC3']\n",
      "DEBUG:rpGraph:multi_reac: []\n",
      "DEBUG:rpGraph:multi_reac: []\n",
      "DEBUG:rpGraph:current_reac_list: [['RP3'], ['RP1']]\n",
      "DEBUG:rpGraph:-------- TARGET_0000000001__64__MNXC3 --> [['RP3'], ['RP1']] ----------\n",
      "DEBUG:rpGraph:flat_reac_list: ['RP3', 'RP1']\n",
      "DEBUG:rpGraph:current_reac_list: [['RP3'], ['RP1']]\n",
      "DEBUG:rpGraph:succ_node_list: []\n",
      "DEBUG:rpGraph:-------- MNXM23__64__MNXC3 --> [['RP3'], ['RP1']] ----------\n",
      "DEBUG:rpGraph:flat_reac_list: ['RP3', 'RP1']\n",
      "DEBUG:rpGraph:current_reac_list: [['RP3'], ['RP1']]\n",
      "DEBUG:rpGraph:succ_node_list: ['RP2']\n",
      "DEBUG:rpGraph:multi_reac: ['RP2']\n",
      "DEBUG:rpGraph:multi_reac: ['RP2']\n",
      "DEBUG:rpGraph:current_reac_list: [['RP3'], ['RP1'], ['RP2']]\n",
      "DEBUG:rpGraph:-------- RP2 --> [['RP3'], ['RP1'], ['RP2']] ----------\n",
      "DEBUG:rpGraph:flat_reac_list: ['RP3', 'RP1', 'RP2']\n",
      "DEBUG:rpGraph:current_reac_list: [['RP3'], ['RP1'], ['RP2']]\n",
      "DEBUG:rpGraph:succ_node_list: ['CMPD_0000000003__64__MNXC3', 'MNXM2__64__MNXC3']\n",
      "DEBUG:rpGraph:multi_reac: []\n",
      "DEBUG:rpGraph:multi_reac: []\n",
      "DEBUG:rpGraph:current_reac_list: [['RP3'], ['RP1'], ['RP2']]\n",
      "DEBUG:rpGraph:-------- CMPD_0000000003__64__MNXC3 --> [['RP3'], ['RP1'], ['RP2']] ----------\n",
      "DEBUG:rpGraph:flat_reac_list: ['RP3', 'RP1', 'RP2']\n",
      "DEBUG:rpGraph:current_reac_list: [['RP3'], ['RP1'], ['RP2']]\n",
      "DEBUG:rpGraph:succ_node_list: ['RP1']\n",
      "DEBUG:rpGraph:multi_reac: []\n",
      "DEBUG:rpGraph:multi_reac: []\n",
      "DEBUG:rpGraph:current_reac_list: [['RP3'], ['RP1'], ['RP2']]\n",
      "WARNING:rpGraph:Successors no results\n",
      "DEBUG:rpGraph:-------- MNXM89557__64__MNXC3 --> [] ----------\n",
      "DEBUG:rpGraph:flat_reac_list: []\n",
      "DEBUG:rpGraph:current_reac_list: []\n",
      "DEBUG:rpGraph:succ_node_list: ['RP4']\n",
      "DEBUG:rpGraph:multi_reac: ['RP4']\n",
      "DEBUG:rpGraph:multi_reac: ['RP4']\n",
      "DEBUG:rpGraph:current_reac_list: [['RP4']]\n",
      "DEBUG:rpGraph:-------- RP4 --> [['RP4']] ----------\n",
      "DEBUG:rpGraph:flat_reac_list: ['RP4']\n",
      "DEBUG:rpGraph:current_reac_list: [['RP4']]\n",
      "DEBUG:rpGraph:succ_node_list: ['CMPD_0000000010__64__MNXC3', 'MNXM161__64__MNXC3', 'MNXM13__64__MNXC3']\n",
      "DEBUG:rpGraph:multi_reac: []\n",
      "DEBUG:rpGraph:multi_reac: []\n",
      "DEBUG:rpGraph:current_reac_list: [['RP4']]\n",
      "DEBUG:rpGraph:-------- CMPD_0000000010__64__MNXC3 --> [['RP4']] ----------\n",
      "DEBUG:rpGraph:flat_reac_list: ['RP4']\n",
      "DEBUG:rpGraph:current_reac_list: [['RP4']]\n",
      "DEBUG:rpGraph:succ_node_list: ['RP3']\n",
      "DEBUG:rpGraph:multi_reac: ['RP3']\n",
      "DEBUG:rpGraph:multi_reac: ['RP3']\n",
      "DEBUG:rpGraph:current_reac_list: [['RP4'], ['RP3']]\n",
      "DEBUG:rpGraph:-------- RP3 --> [['RP4'], ['RP3']] ----------\n",
      "DEBUG:rpGraph:flat_reac_list: ['RP4', 'RP3']\n",
      "DEBUG:rpGraph:current_reac_list: [['RP4'], ['RP3']]\n",
      "DEBUG:rpGraph:succ_node_list: ['CMPD_0000000001__64__MNXC3', 'MNXM5__64__MNXC3', 'MNXM2__64__MNXC3']\n",
      "DEBUG:rpGraph:multi_reac: []\n",
      "DEBUG:rpGraph:multi_reac: []\n",
      "DEBUG:rpGraph:current_reac_list: [['RP4'], ['RP3']]\n",
      "DEBUG:rpGraph:-------- CMPD_0000000001__64__MNXC3 --> [['RP4'], ['RP3']] ----------\n",
      "DEBUG:rpGraph:flat_reac_list: ['RP4', 'RP3']\n",
      "DEBUG:rpGraph:current_reac_list: [['RP4'], ['RP3']]\n",
      "DEBUG:rpGraph:succ_node_list: ['RP1']\n",
      "DEBUG:rpGraph:multi_reac: ['RP1']\n",
      "DEBUG:rpGraph:multi_reac: ['RP1']\n",
      "DEBUG:rpGraph:current_reac_list: [['RP4'], ['RP3'], ['RP1']]\n",
      "DEBUG:rpGraph:-------- RP1 --> [['RP4'], ['RP3'], ['RP1']] ----------\n",
      "DEBUG:rpGraph:flat_reac_list: ['RP4', 'RP3', 'RP1']\n",
      "DEBUG:rpGraph:current_reac_list: [['RP4'], ['RP3'], ['RP1']]\n",
      "DEBUG:rpGraph:succ_node_list: ['TARGET_0000000001__64__MNXC3', 'MNXM23__64__MNXC3']\n",
      "DEBUG:rpGraph:multi_reac: []\n",
      "DEBUG:rpGraph:multi_reac: []\n",
      "DEBUG:rpGraph:current_reac_list: [['RP4'], ['RP3'], ['RP1']]\n",
      "DEBUG:rpGraph:-------- TARGET_0000000001__64__MNXC3 --> [['RP4'], ['RP3'], ['RP1']] ----------\n",
      "DEBUG:rpGraph:flat_reac_list: ['RP4', 'RP3', 'RP1']\n",
      "DEBUG:rpGraph:current_reac_list: [['RP4'], ['RP3'], ['RP1']]\n",
      "DEBUG:rpGraph:succ_node_list: []\n",
      "DEBUG:rpGraph:-------- MNXM23__64__MNXC3 --> [['RP4'], ['RP3'], ['RP1']] ----------\n",
      "DEBUG:rpGraph:flat_reac_list: ['RP4', 'RP3', 'RP1']\n",
      "DEBUG:rpGraph:current_reac_list: [['RP4'], ['RP3'], ['RP1']]\n",
      "DEBUG:rpGraph:succ_node_list: ['RP2']\n",
      "DEBUG:rpGraph:multi_reac: ['RP2']\n",
      "DEBUG:rpGraph:multi_reac: ['RP2']\n",
      "DEBUG:rpGraph:current_reac_list: [['RP4'], ['RP3'], ['RP1'], ['RP2']]\n",
      "DEBUG:rpGraph:-------- RP2 --> [['RP4'], ['RP3'], ['RP1'], ['RP2']] ----------\n",
      "DEBUG:rpGraph:flat_reac_list: ['RP4', 'RP3', 'RP1', 'RP2']\n",
      "DEBUG:rpGraph:current_reac_list: [['RP4'], ['RP3'], ['RP1'], ['RP2']]\n",
      "DEBUG:rpGraph:Returning\n",
      "DEBUG:rpGraph:[[['RP4'], ['RP3'], ['RP1'], ['RP2']]]\n",
      "DEBUG:rpGraph:node_name: TARGET_0000000001__64__MNXC3\n",
      "DEBUG:rpGraph:node_name: MNXM23__64__MNXC3\n",
      "DEBUG:rpGraph:node_name: CMPD_0000000001__64__MNXC3\n",
      "DEBUG:rpGraph:node_name: CMPD_0000000003__64__MNXC3\n",
      "DEBUG:rpGraph:node_name: MNXM2__64__MNXC3\n",
      "DEBUG:rpGraph:node_name: MNXM15__64__MNXC3\n",
      "DEBUG:rpGraph:node_name: MNXM861__64__MNXC3\n",
      "DEBUG:rpGraph:node_name: MNXM1__64__MNXC3\n",
      "DEBUG:rpGraph:node_name: MNXM5__64__MNXC3\n",
      "DEBUG:rpGraph:node_name: CMPD_0000000010__64__MNXC3\n",
      "DEBUG:rpGraph:node_name: MNXM6__64__MNXC3\n",
      "DEBUG:rpGraph:node_name: MNXM161__64__MNXC3\n",
      "DEBUG:rpGraph:node_name: MNXM13__64__MNXC3\n",
      "DEBUG:rpGraph:node_name: MNXM89557__64__MNXC3\n",
      "DEBUG:rpGraph:node_name: RP1\n",
      "DEBUG:rpGraph:node_name: RP2\n",
      "DEBUG:rpGraph:node_name: RP3\n",
      "DEBUG:rpGraph:node_name: RP4\n"
     ]
    },
    {
     "name": "stderr",
     "output_type": "stream",
     "text": [
      "DEBUG:rpGraph:-------- TARGET_0000000001__64__MNXC3 --> [] ----------\n",
      "DEBUG:rpGraph:flat_reac_list: []\n",
      "DEBUG:rpGraph:current_reac_list: []\n",
      "DEBUG:rpGraph:pred_node_list: ['RP1']\n",
      "DEBUG:rpGraph:multi_reac: ['RP1']\n",
      "DEBUG:rpGraph:multi_reac: ['RP1']\n",
      "DEBUG:rpGraph:current_reac_list: [['RP1']]\n",
      "DEBUG:rpGraph:-------- RP1 --> [['RP1']] ----------\n",
      "DEBUG:rpGraph:flat_reac_list: ['RP1']\n",
      "DEBUG:rpGraph:current_reac_list: [['RP1']]\n",
      "DEBUG:rpGraph:pred_node_list: ['CMPD_0000000001__64__MNXC3', 'CMPD_0000000003__64__MNXC3']\n",
      "DEBUG:rpGraph:multi_reac: []\n",
      "DEBUG:rpGraph:multi_reac: []\n",
      "DEBUG:rpGraph:current_reac_list: [['RP1']]\n",
      "DEBUG:rpGraph:-------- CMPD_0000000001__64__MNXC3 --> [['RP1']] ----------\n",
      "DEBUG:rpGraph:flat_reac_list: ['RP1']\n",
      "DEBUG:rpGraph:current_reac_list: [['RP1']]\n",
      "DEBUG:rpGraph:pred_node_list: ['RP3']\n",
      "DEBUG:rpGraph:multi_reac: ['RP3']\n",
      "DEBUG:rpGraph:multi_reac: ['RP3']\n",
      "DEBUG:rpGraph:current_reac_list: [['RP1'], ['RP3']]\n",
      "DEBUG:rpGraph:-------- RP3 --> [['RP1'], ['RP3']] ----------\n",
      "DEBUG:rpGraph:flat_reac_list: ['RP1', 'RP3']\n",
      "DEBUG:rpGraph:current_reac_list: [['RP1'], ['RP3']]\n",
      "DEBUG:rpGraph:pred_node_list: ['CMPD_0000000010__64__MNXC3', 'MNXM6__64__MNXC3', 'MNXM1__64__MNXC3']\n",
      "DEBUG:rpGraph:multi_reac: []\n",
      "DEBUG:rpGraph:multi_reac: []\n",
      "DEBUG:rpGraph:current_reac_list: [['RP1'], ['RP3']]\n",
      "DEBUG:rpGraph:-------- CMPD_0000000010__64__MNXC3 --> [['RP1'], ['RP3']] ----------\n",
      "DEBUG:rpGraph:flat_reac_list: ['RP1', 'RP3']\n",
      "DEBUG:rpGraph:current_reac_list: [['RP1'], ['RP3']]\n",
      "DEBUG:rpGraph:pred_node_list: ['RP4']\n",
      "DEBUG:rpGraph:multi_reac: ['RP4']\n",
      "DEBUG:rpGraph:multi_reac: ['RP4']\n",
      "DEBUG:rpGraph:current_reac_list: [['RP1'], ['RP3'], ['RP4']]\n",
      "DEBUG:rpGraph:-------- RP4 --> [['RP1'], ['RP3'], ['RP4']] ----------\n",
      "DEBUG:rpGraph:flat_reac_list: ['RP1', 'RP3', 'RP4']\n",
      "DEBUG:rpGraph:current_reac_list: [['RP1'], ['RP3'], ['RP4']]\n",
      "DEBUG:rpGraph:pred_node_list: ['MNXM89557__64__MNXC3', 'MNXM161__64__MNXC3', 'MNXM1__64__MNXC3']\n",
      "DEBUG:rpGraph:multi_reac: []\n",
      "DEBUG:rpGraph:multi_reac: []\n",
      "DEBUG:rpGraph:current_reac_list: [['RP1'], ['RP3'], ['RP4']]\n",
      "DEBUG:rpGraph:-------- MNXM89557__64__MNXC3 --> [['RP1'], ['RP3'], ['RP4']] ----------\n",
      "DEBUG:rpGraph:flat_reac_list: ['RP1', 'RP3', 'RP4']\n",
      "DEBUG:rpGraph:current_reac_list: [['RP1'], ['RP3'], ['RP4']]\n",
      "DEBUG:rpGraph:pred_node_list: []\n",
      "DEBUG:rpGraph:-------- MNXM6__64__MNXC3 --> [['RP1'], ['RP3']] ----------\n",
      "DEBUG:rpGraph:flat_reac_list: ['RP1', 'RP3']\n",
      "DEBUG:rpGraph:current_reac_list: [['RP1'], ['RP3']]\n",
      "DEBUG:rpGraph:pred_node_list: []\n",
      "DEBUG:rpGraph:-------- CMPD_0000000003__64__MNXC3 --> [['RP1']] ----------\n",
      "DEBUG:rpGraph:flat_reac_list: ['RP1']\n",
      "DEBUG:rpGraph:current_reac_list: [['RP1']]\n",
      "DEBUG:rpGraph:pred_node_list: ['RP2']\n",
      "DEBUG:rpGraph:multi_reac: ['RP2']\n",
      "DEBUG:rpGraph:multi_reac: ['RP2']\n",
      "DEBUG:rpGraph:current_reac_list: [['RP1'], ['RP2']]\n",
      "DEBUG:rpGraph:-------- RP2 --> [['RP1'], ['RP2']] ----------\n",
      "DEBUG:rpGraph:flat_reac_list: ['RP1', 'RP2']\n",
      "DEBUG:rpGraph:current_reac_list: [['RP1'], ['RP2']]\n",
      "DEBUG:rpGraph:pred_node_list: ['MNXM15__64__MNXC3', 'MNXM23__64__MNXC3', 'MNXM861__64__MNXC3', 'MNXM1__64__MNXC3']\n",
      "DEBUG:rpGraph:multi_reac: []\n",
      "DEBUG:rpGraph:multi_reac: []\n",
      "DEBUG:rpGraph:current_reac_list: [['RP1'], ['RP2']]\n",
      "DEBUG:rpGraph:-------- MNXM15__64__MNXC3 --> [['RP1'], ['RP2']] ----------\n",
      "DEBUG:rpGraph:flat_reac_list: ['RP1', 'RP2']\n",
      "DEBUG:rpGraph:current_reac_list: [['RP1'], ['RP2']]\n",
      "DEBUG:rpGraph:pred_node_list: []\n",
      "DEBUG:rpGraph:-------- MNXM23__64__MNXC3 --> [['RP1'], ['RP2']] ----------\n",
      "DEBUG:rpGraph:flat_reac_list: ['RP1', 'RP2']\n",
      "DEBUG:rpGraph:current_reac_list: [['RP1'], ['RP2']]\n",
      "DEBUG:rpGraph:pred_node_list: ['RP1']\n",
      "DEBUG:rpGraph:multi_reac: []\n",
      "DEBUG:rpGraph:multi_reac: []\n",
      "DEBUG:rpGraph:current_reac_list: [['RP1'], ['RP2']]\n",
      "WARNING:rpGraph:Predecessors no results\n",
      "ERROR:rpGraph:Ordered reaction returned emtpy results\n"
     ]
    }
   ],
   "source": [
    "a = rpgraph.drawsvg('test_final.svg',\n",
    "                    react_arrow_size=50,\n",
    "                    arrow_gap_size=30,\n",
    "                    subplot_size=[200,200],\n",
    "                    stroke_color='black',\n",
    "                    stroke_width=2)"
   ]
  },
  {
   "cell_type": "code",
   "execution_count": null,
   "metadata": {},
   "outputs": [],
   "source": []
  },
  {
   "cell_type": "code",
   "execution_count": null,
   "metadata": {},
   "outputs": [],
   "source": []
  },
  {
   "cell_type": "code",
   "execution_count": null,
   "metadata": {},
   "outputs": [],
   "source": []
  },
  {
   "cell_type": "code",
   "execution_count": null,
   "metadata": {},
   "outputs": [],
   "source": []
  },
  {
   "cell_type": "code",
   "execution_count": null,
   "metadata": {},
   "outputs": [],
   "source": []
  },
  {
   "cell_type": "code",
   "execution_count": 20,
   "metadata": {},
   "outputs": [
    {
     "name": "stderr",
     "output_type": "stream",
     "text": [
      "DEBUG:rpGraph:-------- TARGET_0000000001__64__MNXC3 --> [] ----------\n",
      "DEBUG:rpGraph:flat_reac_list: []\n",
      "DEBUG:rpGraph:current_reac_list: []\n",
      "DEBUG:rpGraph:pred_node_list: ['RP1']\n",
      "DEBUG:rpGraph:multi_reac: ['RP1']\n",
      "DEBUG:rpGraph:multi_reac: ['RP1']\n",
      "DEBUG:rpGraph:current_reac_list: [['RP1']]\n",
      "DEBUG:rpGraph:-------- RP1 --> [['RP1']] ----------\n",
      "DEBUG:rpGraph:flat_reac_list: ['RP1']\n",
      "DEBUG:rpGraph:current_reac_list: [['RP1']]\n",
      "DEBUG:rpGraph:pred_node_list: ['CMPD_0000000001__64__MNXC3', 'CMPD_0000000003__64__MNXC3']\n",
      "DEBUG:rpGraph:multi_reac: []\n",
      "DEBUG:rpGraph:multi_reac: []\n",
      "DEBUG:rpGraph:current_reac_list: [['RP1']]\n",
      "DEBUG:rpGraph:-------- CMPD_0000000001__64__MNXC3 --> [['RP1']] ----------\n",
      "DEBUG:rpGraph:flat_reac_list: ['RP1']\n",
      "DEBUG:rpGraph:current_reac_list: [['RP1']]\n",
      "DEBUG:rpGraph:pred_node_list: ['RP3']\n",
      "DEBUG:rpGraph:multi_reac: ['RP3']\n",
      "DEBUG:rpGraph:multi_reac: ['RP3']\n",
      "DEBUG:rpGraph:current_reac_list: [['RP1'], ['RP3']]\n",
      "DEBUG:rpGraph:-------- RP3 --> [['RP1'], ['RP3']] ----------\n",
      "DEBUG:rpGraph:flat_reac_list: ['RP1', 'RP3']\n",
      "DEBUG:rpGraph:current_reac_list: [['RP1'], ['RP3']]\n",
      "DEBUG:rpGraph:pred_node_list: ['CMPD_0000000010__64__MNXC3', 'MNXM6__64__MNXC3', 'MNXM1__64__MNXC3']\n",
      "DEBUG:rpGraph:multi_reac: []\n",
      "DEBUG:rpGraph:multi_reac: []\n",
      "DEBUG:rpGraph:current_reac_list: [['RP1'], ['RP3']]\n",
      "DEBUG:rpGraph:-------- CMPD_0000000010__64__MNXC3 --> [['RP1'], ['RP3']] ----------\n",
      "DEBUG:rpGraph:flat_reac_list: ['RP1', 'RP3']\n",
      "DEBUG:rpGraph:current_reac_list: [['RP1'], ['RP3']]\n",
      "DEBUG:rpGraph:pred_node_list: ['RP5']\n",
      "DEBUG:rpGraph:multi_reac: ['RP5']\n",
      "DEBUG:rpGraph:multi_reac: ['RP5']\n",
      "DEBUG:rpGraph:current_reac_list: [['RP1'], ['RP3'], ['RP5']]\n",
      "DEBUG:rpGraph:-------- RP5 --> [['RP1'], ['RP3'], ['RP5']] ----------\n",
      "DEBUG:rpGraph:flat_reac_list: ['RP1', 'RP3', 'RP5']\n",
      "DEBUG:rpGraph:current_reac_list: [['RP1'], ['RP3'], ['RP5']]\n",
      "DEBUG:rpGraph:pred_node_list: ['MNXM89557__64__MNXC3', 'MNXM1__64__MNXC3']\n",
      "DEBUG:rpGraph:multi_reac: []\n",
      "DEBUG:rpGraph:multi_reac: []\n",
      "DEBUG:rpGraph:current_reac_list: [['RP1'], ['RP3'], ['RP5']]\n",
      "DEBUG:rpGraph:-------- MNXM89557__64__MNXC3 --> [['RP1'], ['RP3'], ['RP5']] ----------\n",
      "DEBUG:rpGraph:flat_reac_list: ['RP1', 'RP3', 'RP5']\n",
      "DEBUG:rpGraph:current_reac_list: [['RP1'], ['RP3'], ['RP5']]\n",
      "DEBUG:rpGraph:pred_node_list: []\n",
      "DEBUG:rpGraph:-------- MNXM6__64__MNXC3 --> [['RP1'], ['RP3']] ----------\n",
      "DEBUG:rpGraph:flat_reac_list: ['RP1', 'RP3']\n",
      "DEBUG:rpGraph:current_reac_list: [['RP1'], ['RP3']]\n",
      "DEBUG:rpGraph:pred_node_list: []\n",
      "DEBUG:rpGraph:-------- CMPD_0000000003__64__MNXC3 --> [['RP1']] ----------\n",
      "DEBUG:rpGraph:flat_reac_list: ['RP1']\n",
      "DEBUG:rpGraph:current_reac_list: [['RP1']]\n",
      "DEBUG:rpGraph:pred_node_list: ['RP2']\n",
      "DEBUG:rpGraph:multi_reac: ['RP2']\n",
      "DEBUG:rpGraph:multi_reac: ['RP2']\n",
      "DEBUG:rpGraph:current_reac_list: [['RP1'], ['RP2']]\n",
      "DEBUG:rpGraph:-------- RP2 --> [['RP1'], ['RP2']] ----------\n",
      "DEBUG:rpGraph:flat_reac_list: ['RP1', 'RP2']\n",
      "DEBUG:rpGraph:current_reac_list: [['RP1'], ['RP2']]\n",
      "DEBUG:rpGraph:pred_node_list: ['CMPD_0000000009__64__MNXC3', 'MNXM23__64__MNXC3']\n",
      "DEBUG:rpGraph:multi_reac: []\n",
      "DEBUG:rpGraph:multi_reac: []\n",
      "DEBUG:rpGraph:current_reac_list: [['RP1'], ['RP2']]\n",
      "DEBUG:rpGraph:-------- CMPD_0000000009__64__MNXC3 --> [['RP1'], ['RP2']] ----------\n",
      "DEBUG:rpGraph:flat_reac_list: ['RP1', 'RP2']\n",
      "DEBUG:rpGraph:current_reac_list: [['RP1'], ['RP2']]\n",
      "DEBUG:rpGraph:pred_node_list: ['RP4']\n",
      "DEBUG:rpGraph:multi_reac: ['RP4']\n",
      "DEBUG:rpGraph:multi_reac: ['RP4']\n",
      "DEBUG:rpGraph:current_reac_list: [['RP1'], ['RP2'], ['RP4']]\n",
      "DEBUG:rpGraph:-------- RP4 --> [['RP1'], ['RP2'], ['RP4']] ----------\n",
      "DEBUG:rpGraph:flat_reac_list: ['RP1', 'RP2', 'RP4']\n",
      "DEBUG:rpGraph:current_reac_list: [['RP1'], ['RP2'], ['RP4']]\n",
      "DEBUG:rpGraph:pred_node_list: ['MNXM15__64__MNXC3', 'MNXM46__64__MNXC3', 'MNXM6__64__MNXC3', 'MNXM1__64__MNXC3']\n",
      "DEBUG:rpGraph:multi_reac: []\n",
      "DEBUG:rpGraph:multi_reac: []\n",
      "DEBUG:rpGraph:current_reac_list: [['RP1'], ['RP2'], ['RP4']]\n",
      "DEBUG:rpGraph:-------- MNXM15__64__MNXC3 --> [['RP1'], ['RP2'], ['RP4']] ----------\n",
      "DEBUG:rpGraph:flat_reac_list: ['RP1', 'RP2', 'RP4']\n",
      "DEBUG:rpGraph:current_reac_list: [['RP1'], ['RP2'], ['RP4']]\n",
      "DEBUG:rpGraph:pred_node_list: []\n",
      "DEBUG:rpGraph:-------- MNXM46__64__MNXC3 --> [['RP1'], ['RP2'], ['RP4']] ----------\n",
      "DEBUG:rpGraph:flat_reac_list: ['RP1', 'RP2', 'RP4']\n",
      "DEBUG:rpGraph:current_reac_list: [['RP1'], ['RP2'], ['RP4']]\n",
      "DEBUG:rpGraph:pred_node_list: ['RP2']\n",
      "DEBUG:rpGraph:multi_reac: []\n",
      "DEBUG:rpGraph:multi_reac: []\n",
      "DEBUG:rpGraph:current_reac_list: [['RP1'], ['RP2'], ['RP4']]\n",
      "DEBUG:rpGraph:-------- MNXM6__64__MNXC3 --> [['RP1'], ['RP2'], ['RP4']] ----------\n",
      "DEBUG:rpGraph:flat_reac_list: ['RP1', 'RP2', 'RP4']\n",
      "DEBUG:rpGraph:current_reac_list: [['RP1'], ['RP2'], ['RP4']]\n",
      "DEBUG:rpGraph:pred_node_list: []\n",
      "DEBUG:rpGraph:-------- MNXM23__64__MNXC3 --> [['RP1'], ['RP2']] ----------\n",
      "DEBUG:rpGraph:flat_reac_list: ['RP1', 'RP2']\n",
      "DEBUG:rpGraph:current_reac_list: [['RP1'], ['RP2']]\n",
      "DEBUG:rpGraph:pred_node_list: ['RP1']\n",
      "DEBUG:rpGraph:multi_reac: []\n",
      "DEBUG:rpGraph:multi_reac: []\n",
      "DEBUG:rpGraph:current_reac_list: [['RP1'], ['RP2']]\n",
      "WARNING:rpGraph:Predecessors no results\n",
      "DEBUG:rpGraph:-------- MNXM6__64__MNXC3 --> [] ----------\n",
      "DEBUG:rpGraph:flat_reac_list: []\n",
      "DEBUG:rpGraph:current_reac_list: []\n",
      "DEBUG:rpGraph:succ_node_list: ['RP3', 'RP4']\n",
      "DEBUG:rpGraph:multi_reac: ['RP3', 'RP4']\n",
      "DEBUG:rpGraph:multi_reac: ['RP3', 'RP4']\n",
      "DEBUG:rpGraph:current_reac_list: [['RP3', 'RP4']]\n",
      "DEBUG:rpGraph:-------- RP3 --> [['RP3', 'RP4']] ----------\n",
      "DEBUG:rpGraph:flat_reac_list: ['RP3', 'RP4']\n",
      "DEBUG:rpGraph:current_reac_list: [['RP3', 'RP4']]\n",
      "DEBUG:rpGraph:succ_node_list: ['CMPD_0000000001__64__MNXC3', 'MNXM5__64__MNXC3', 'MNXM2__64__MNXC3']\n",
      "DEBUG:rpGraph:multi_reac: []\n",
      "DEBUG:rpGraph:multi_reac: []\n",
      "DEBUG:rpGraph:current_reac_list: [['RP3', 'RP4']]\n",
      "DEBUG:rpGraph:-------- CMPD_0000000001__64__MNXC3 --> [['RP3', 'RP4']] ----------\n",
      "DEBUG:rpGraph:flat_reac_list: ['RP3', 'RP4']\n",
      "DEBUG:rpGraph:current_reac_list: [['RP3', 'RP4']]\n",
      "DEBUG:rpGraph:succ_node_list: ['RP1']\n",
      "DEBUG:rpGraph:multi_reac: ['RP1']\n",
      "DEBUG:rpGraph:multi_reac: ['RP1']\n",
      "DEBUG:rpGraph:current_reac_list: [['RP3', 'RP4'], ['RP1']]\n",
      "DEBUG:rpGraph:-------- RP1 --> [['RP3', 'RP4'], ['RP1']] ----------\n",
      "DEBUG:rpGraph:flat_reac_list: ['RP3', 'RP4', 'RP1']\n",
      "DEBUG:rpGraph:current_reac_list: [['RP3', 'RP4'], ['RP1']]\n",
      "DEBUG:rpGraph:succ_node_list: ['TARGET_0000000001__64__MNXC3', 'MNXM23__64__MNXC3']\n",
      "DEBUG:rpGraph:multi_reac: []\n",
      "DEBUG:rpGraph:multi_reac: []\n",
      "DEBUG:rpGraph:current_reac_list: [['RP3', 'RP4'], ['RP1']]\n",
      "DEBUG:rpGraph:-------- TARGET_0000000001__64__MNXC3 --> [['RP3', 'RP4'], ['RP1']] ----------\n",
      "DEBUG:rpGraph:flat_reac_list: ['RP3', 'RP4', 'RP1']\n",
      "DEBUG:rpGraph:current_reac_list: [['RP3', 'RP4'], ['RP1']]\n",
      "DEBUG:rpGraph:succ_node_list: []\n",
      "DEBUG:rpGraph:-------- MNXM23__64__MNXC3 --> [['RP3', 'RP4'], ['RP1']] ----------\n",
      "DEBUG:rpGraph:flat_reac_list: ['RP3', 'RP4', 'RP1']\n",
      "DEBUG:rpGraph:current_reac_list: [['RP3', 'RP4'], ['RP1']]\n",
      "DEBUG:rpGraph:succ_node_list: ['RP2']\n",
      "DEBUG:rpGraph:multi_reac: ['RP2']\n",
      "DEBUG:rpGraph:multi_reac: ['RP2']\n",
      "DEBUG:rpGraph:current_reac_list: [['RP3', 'RP4'], ['RP1'], ['RP2']]\n",
      "DEBUG:rpGraph:-------- RP2 --> [['RP3', 'RP4'], ['RP1'], ['RP2']] ----------\n",
      "DEBUG:rpGraph:flat_reac_list: ['RP3', 'RP4', 'RP1', 'RP2']\n",
      "DEBUG:rpGraph:current_reac_list: [['RP3', 'RP4'], ['RP1'], ['RP2']]\n",
      "DEBUG:rpGraph:succ_node_list: ['CMPD_0000000003__64__MNXC3', 'MNXM46__64__MNXC3']\n",
      "DEBUG:rpGraph:multi_reac: []\n",
      "DEBUG:rpGraph:multi_reac: []\n",
      "DEBUG:rpGraph:current_reac_list: [['RP3', 'RP4'], ['RP1'], ['RP2']]\n",
      "DEBUG:rpGraph:-------- CMPD_0000000003__64__MNXC3 --> [['RP3', 'RP4'], ['RP1'], ['RP2']] ----------\n",
      "DEBUG:rpGraph:flat_reac_list: ['RP3', 'RP4', 'RP1', 'RP2']\n",
      "DEBUG:rpGraph:current_reac_list: [['RP3', 'RP4'], ['RP1'], ['RP2']]\n",
      "DEBUG:rpGraph:succ_node_list: ['RP1']\n",
      "DEBUG:rpGraph:multi_reac: []\n",
      "DEBUG:rpGraph:multi_reac: []\n",
      "DEBUG:rpGraph:current_reac_list: [['RP3', 'RP4'], ['RP1'], ['RP2']]\n",
      "DEBUG:rpGraph:-------- MNXM46__64__MNXC3 --> [['RP3', 'RP4'], ['RP1'], ['RP2']] ----------\n",
      "DEBUG:rpGraph:flat_reac_list: ['RP3', 'RP4', 'RP1', 'RP2']\n",
      "DEBUG:rpGraph:current_reac_list: [['RP3', 'RP4'], ['RP1'], ['RP2']]\n",
      "DEBUG:rpGraph:succ_node_list: ['RP4']\n",
      "DEBUG:rpGraph:multi_reac: []\n",
      "DEBUG:rpGraph:multi_reac: []\n",
      "DEBUG:rpGraph:current_reac_list: [['RP3', 'RP4'], ['RP1'], ['RP2']]\n"
     ]
    },
    {
     "name": "stderr",
     "output_type": "stream",
     "text": [
      "DEBUG:rpGraph:-------- RP4 --> [['RP3', 'RP4']] ----------\n",
      "DEBUG:rpGraph:flat_reac_list: ['RP3', 'RP4']\n",
      "DEBUG:rpGraph:current_reac_list: [['RP3', 'RP4']]\n",
      "DEBUG:rpGraph:succ_node_list: ['CMPD_0000000009__64__MNXC3', 'MNXM5__64__MNXC3', 'MNXM2__64__MNXC3']\n",
      "DEBUG:rpGraph:multi_reac: []\n",
      "DEBUG:rpGraph:multi_reac: []\n",
      "DEBUG:rpGraph:current_reac_list: [['RP3', 'RP4']]\n",
      "DEBUG:rpGraph:-------- CMPD_0000000009__64__MNXC3 --> [['RP3', 'RP4']] ----------\n",
      "DEBUG:rpGraph:flat_reac_list: ['RP3', 'RP4']\n",
      "DEBUG:rpGraph:current_reac_list: [['RP3', 'RP4']]\n",
      "DEBUG:rpGraph:succ_node_list: ['RP2']\n",
      "DEBUG:rpGraph:multi_reac: ['RP2']\n",
      "DEBUG:rpGraph:multi_reac: ['RP2']\n",
      "DEBUG:rpGraph:current_reac_list: [['RP3', 'RP4'], ['RP2']]\n",
      "DEBUG:rpGraph:-------- RP2 --> [['RP3', 'RP4'], ['RP2']] ----------\n",
      "DEBUG:rpGraph:flat_reac_list: ['RP3', 'RP4', 'RP2']\n",
      "DEBUG:rpGraph:current_reac_list: [['RP3', 'RP4'], ['RP2']]\n",
      "DEBUG:rpGraph:succ_node_list: ['CMPD_0000000003__64__MNXC3', 'MNXM46__64__MNXC3']\n",
      "DEBUG:rpGraph:multi_reac: []\n",
      "DEBUG:rpGraph:multi_reac: []\n",
      "DEBUG:rpGraph:current_reac_list: [['RP3', 'RP4'], ['RP2']]\n",
      "DEBUG:rpGraph:-------- CMPD_0000000003__64__MNXC3 --> [['RP3', 'RP4'], ['RP2']] ----------\n",
      "DEBUG:rpGraph:flat_reac_list: ['RP3', 'RP4', 'RP2']\n",
      "DEBUG:rpGraph:current_reac_list: [['RP3', 'RP4'], ['RP2']]\n",
      "DEBUG:rpGraph:succ_node_list: ['RP1']\n",
      "DEBUG:rpGraph:multi_reac: ['RP1']\n",
      "DEBUG:rpGraph:multi_reac: ['RP1']\n",
      "DEBUG:rpGraph:current_reac_list: [['RP3', 'RP4'], ['RP2'], ['RP1']]\n",
      "DEBUG:rpGraph:-------- RP1 --> [['RP3', 'RP4'], ['RP2'], ['RP1']] ----------\n",
      "DEBUG:rpGraph:flat_reac_list: ['RP3', 'RP4', 'RP2', 'RP1']\n",
      "DEBUG:rpGraph:current_reac_list: [['RP3', 'RP4'], ['RP2'], ['RP1']]\n",
      "DEBUG:rpGraph:succ_node_list: ['TARGET_0000000001__64__MNXC3', 'MNXM23__64__MNXC3']\n",
      "DEBUG:rpGraph:multi_reac: []\n",
      "DEBUG:rpGraph:multi_reac: []\n",
      "DEBUG:rpGraph:current_reac_list: [['RP3', 'RP4'], ['RP2'], ['RP1']]\n",
      "DEBUG:rpGraph:-------- TARGET_0000000001__64__MNXC3 --> [['RP3', 'RP4'], ['RP2'], ['RP1']] ----------\n",
      "DEBUG:rpGraph:flat_reac_list: ['RP3', 'RP4', 'RP2', 'RP1']\n",
      "DEBUG:rpGraph:current_reac_list: [['RP3', 'RP4'], ['RP2'], ['RP1']]\n",
      "DEBUG:rpGraph:succ_node_list: []\n",
      "DEBUG:rpGraph:-------- MNXM23__64__MNXC3 --> [['RP3', 'RP4'], ['RP2'], ['RP1']] ----------\n",
      "DEBUG:rpGraph:flat_reac_list: ['RP3', 'RP4', 'RP2', 'RP1']\n",
      "DEBUG:rpGraph:current_reac_list: [['RP3', 'RP4'], ['RP2'], ['RP1']]\n",
      "DEBUG:rpGraph:succ_node_list: ['RP2']\n",
      "DEBUG:rpGraph:multi_reac: []\n",
      "DEBUG:rpGraph:multi_reac: []\n",
      "DEBUG:rpGraph:current_reac_list: [['RP3', 'RP4'], ['RP2'], ['RP1']]\n",
      "DEBUG:rpGraph:-------- MNXM46__64__MNXC3 --> [['RP3', 'RP4'], ['RP2']] ----------\n",
      "DEBUG:rpGraph:flat_reac_list: ['RP3', 'RP4', 'RP2']\n",
      "DEBUG:rpGraph:current_reac_list: [['RP3', 'RP4'], ['RP2']]\n",
      "DEBUG:rpGraph:succ_node_list: ['RP4']\n",
      "DEBUG:rpGraph:multi_reac: []\n",
      "DEBUG:rpGraph:multi_reac: []\n",
      "DEBUG:rpGraph:current_reac_list: [['RP3', 'RP4'], ['RP2']]\n",
      "WARNING:rpGraph:Successors no results\n",
      "DEBUG:rpGraph:-------- MNXM15__64__MNXC3 --> [] ----------\n",
      "DEBUG:rpGraph:flat_reac_list: []\n",
      "DEBUG:rpGraph:current_reac_list: []\n",
      "DEBUG:rpGraph:succ_node_list: ['RP4']\n",
      "DEBUG:rpGraph:multi_reac: ['RP4']\n",
      "DEBUG:rpGraph:multi_reac: ['RP4']\n",
      "DEBUG:rpGraph:current_reac_list: [['RP4']]\n",
      "DEBUG:rpGraph:-------- RP4 --> [['RP4']] ----------\n",
      "DEBUG:rpGraph:flat_reac_list: ['RP4']\n",
      "DEBUG:rpGraph:current_reac_list: [['RP4']]\n",
      "DEBUG:rpGraph:succ_node_list: ['CMPD_0000000009__64__MNXC3', 'MNXM5__64__MNXC3', 'MNXM2__64__MNXC3']\n",
      "DEBUG:rpGraph:multi_reac: []\n",
      "DEBUG:rpGraph:multi_reac: []\n",
      "DEBUG:rpGraph:current_reac_list: [['RP4']]\n",
      "DEBUG:rpGraph:-------- CMPD_0000000009__64__MNXC3 --> [['RP4']] ----------\n",
      "DEBUG:rpGraph:flat_reac_list: ['RP4']\n",
      "DEBUG:rpGraph:current_reac_list: [['RP4']]\n",
      "DEBUG:rpGraph:succ_node_list: ['RP2']\n",
      "DEBUG:rpGraph:multi_reac: ['RP2']\n",
      "DEBUG:rpGraph:multi_reac: ['RP2']\n",
      "DEBUG:rpGraph:current_reac_list: [['RP4'], ['RP2']]\n",
      "DEBUG:rpGraph:-------- RP2 --> [['RP4'], ['RP2']] ----------\n",
      "DEBUG:rpGraph:flat_reac_list: ['RP4', 'RP2']\n",
      "DEBUG:rpGraph:current_reac_list: [['RP4'], ['RP2']]\n",
      "DEBUG:rpGraph:succ_node_list: ['CMPD_0000000003__64__MNXC3', 'MNXM46__64__MNXC3']\n",
      "DEBUG:rpGraph:multi_reac: []\n",
      "DEBUG:rpGraph:multi_reac: []\n",
      "DEBUG:rpGraph:current_reac_list: [['RP4'], ['RP2']]\n",
      "DEBUG:rpGraph:-------- CMPD_0000000003__64__MNXC3 --> [['RP4'], ['RP2']] ----------\n",
      "DEBUG:rpGraph:flat_reac_list: ['RP4', 'RP2']\n",
      "DEBUG:rpGraph:current_reac_list: [['RP4'], ['RP2']]\n",
      "DEBUG:rpGraph:succ_node_list: ['RP1']\n",
      "DEBUG:rpGraph:multi_reac: ['RP1']\n",
      "DEBUG:rpGraph:multi_reac: ['RP1']\n",
      "DEBUG:rpGraph:current_reac_list: [['RP4'], ['RP2'], ['RP1']]\n",
      "DEBUG:rpGraph:-------- RP1 --> [['RP4'], ['RP2'], ['RP1']] ----------\n",
      "DEBUG:rpGraph:flat_reac_list: ['RP4', 'RP2', 'RP1']\n",
      "DEBUG:rpGraph:current_reac_list: [['RP4'], ['RP2'], ['RP1']]\n",
      "DEBUG:rpGraph:succ_node_list: ['TARGET_0000000001__64__MNXC3', 'MNXM23__64__MNXC3']\n",
      "DEBUG:rpGraph:multi_reac: []\n",
      "DEBUG:rpGraph:multi_reac: []\n",
      "DEBUG:rpGraph:current_reac_list: [['RP4'], ['RP2'], ['RP1']]\n",
      "DEBUG:rpGraph:-------- TARGET_0000000001__64__MNXC3 --> [['RP4'], ['RP2'], ['RP1']] ----------\n",
      "DEBUG:rpGraph:flat_reac_list: ['RP4', 'RP2', 'RP1']\n",
      "DEBUG:rpGraph:current_reac_list: [['RP4'], ['RP2'], ['RP1']]\n",
      "DEBUG:rpGraph:succ_node_list: []\n",
      "DEBUG:rpGraph:-------- MNXM23__64__MNXC3 --> [['RP4'], ['RP2'], ['RP1']] ----------\n",
      "DEBUG:rpGraph:flat_reac_list: ['RP4', 'RP2', 'RP1']\n",
      "DEBUG:rpGraph:current_reac_list: [['RP4'], ['RP2'], ['RP1']]\n",
      "DEBUG:rpGraph:succ_node_list: ['RP2']\n",
      "DEBUG:rpGraph:multi_reac: []\n",
      "DEBUG:rpGraph:multi_reac: []\n",
      "DEBUG:rpGraph:current_reac_list: [['RP4'], ['RP2'], ['RP1']]\n",
      "DEBUG:rpGraph:-------- MNXM46__64__MNXC3 --> [['RP4'], ['RP2']] ----------\n",
      "DEBUG:rpGraph:flat_reac_list: ['RP4', 'RP2']\n",
      "DEBUG:rpGraph:current_reac_list: [['RP4'], ['RP2']]\n",
      "DEBUG:rpGraph:succ_node_list: ['RP4']\n",
      "DEBUG:rpGraph:multi_reac: []\n",
      "DEBUG:rpGraph:multi_reac: []\n",
      "DEBUG:rpGraph:current_reac_list: [['RP4'], ['RP2']]\n",
      "WARNING:rpGraph:Successors no results\n",
      "DEBUG:rpGraph:-------- MNXM89557__64__MNXC3 --> [] ----------\n",
      "DEBUG:rpGraph:flat_reac_list: []\n",
      "DEBUG:rpGraph:current_reac_list: []\n",
      "DEBUG:rpGraph:succ_node_list: ['RP5']\n",
      "DEBUG:rpGraph:multi_reac: ['RP5']\n",
      "DEBUG:rpGraph:multi_reac: ['RP5']\n",
      "DEBUG:rpGraph:current_reac_list: [['RP5']]\n",
      "DEBUG:rpGraph:-------- RP5 --> [['RP5']] ----------\n",
      "DEBUG:rpGraph:flat_reac_list: ['RP5']\n",
      "DEBUG:rpGraph:current_reac_list: [['RP5']]\n",
      "DEBUG:rpGraph:succ_node_list: ['CMPD_0000000010__64__MNXC3', 'MNXM13__64__MNXC3']\n",
      "DEBUG:rpGraph:multi_reac: []\n",
      "DEBUG:rpGraph:multi_reac: []\n",
      "DEBUG:rpGraph:current_reac_list: [['RP5']]\n",
      "DEBUG:rpGraph:-------- CMPD_0000000010__64__MNXC3 --> [['RP5']] ----------\n",
      "DEBUG:rpGraph:flat_reac_list: ['RP5']\n",
      "DEBUG:rpGraph:current_reac_list: [['RP5']]\n",
      "DEBUG:rpGraph:succ_node_list: ['RP3']\n",
      "DEBUG:rpGraph:multi_reac: ['RP3']\n",
      "DEBUG:rpGraph:multi_reac: ['RP3']\n",
      "DEBUG:rpGraph:current_reac_list: [['RP5'], ['RP3']]\n",
      "DEBUG:rpGraph:-------- RP3 --> [['RP5'], ['RP3']] ----------\n",
      "DEBUG:rpGraph:flat_reac_list: ['RP5', 'RP3']\n",
      "DEBUG:rpGraph:current_reac_list: [['RP5'], ['RP3']]\n",
      "DEBUG:rpGraph:succ_node_list: ['CMPD_0000000001__64__MNXC3', 'MNXM5__64__MNXC3', 'MNXM2__64__MNXC3']\n",
      "DEBUG:rpGraph:multi_reac: []\n",
      "DEBUG:rpGraph:multi_reac: []\n",
      "DEBUG:rpGraph:current_reac_list: [['RP5'], ['RP3']]\n",
      "DEBUG:rpGraph:-------- CMPD_0000000001__64__MNXC3 --> [['RP5'], ['RP3']] ----------\n",
      "DEBUG:rpGraph:flat_reac_list: ['RP5', 'RP3']\n",
      "DEBUG:rpGraph:current_reac_list: [['RP5'], ['RP3']]\n",
      "DEBUG:rpGraph:succ_node_list: ['RP1']\n",
      "DEBUG:rpGraph:multi_reac: ['RP1']\n",
      "DEBUG:rpGraph:multi_reac: ['RP1']\n",
      "DEBUG:rpGraph:current_reac_list: [['RP5'], ['RP3'], ['RP1']]\n",
      "DEBUG:rpGraph:-------- RP1 --> [['RP5'], ['RP3'], ['RP1']] ----------\n",
      "DEBUG:rpGraph:flat_reac_list: ['RP5', 'RP3', 'RP1']\n",
      "DEBUG:rpGraph:current_reac_list: [['RP5'], ['RP3'], ['RP1']]\n",
      "DEBUG:rpGraph:succ_node_list: ['TARGET_0000000001__64__MNXC3', 'MNXM23__64__MNXC3']\n",
      "DEBUG:rpGraph:multi_reac: []\n",
      "DEBUG:rpGraph:multi_reac: []\n",
      "DEBUG:rpGraph:current_reac_list: [['RP5'], ['RP3'], ['RP1']]\n",
      "DEBUG:rpGraph:-------- TARGET_0000000001__64__MNXC3 --> [['RP5'], ['RP3'], ['RP1']] ----------\n",
      "DEBUG:rpGraph:flat_reac_list: ['RP5', 'RP3', 'RP1']\n",
      "DEBUG:rpGraph:current_reac_list: [['RP5'], ['RP3'], ['RP1']]\n",
      "DEBUG:rpGraph:succ_node_list: []\n",
      "DEBUG:rpGraph:-------- MNXM23__64__MNXC3 --> [['RP5'], ['RP3'], ['RP1']] ----------\n"
     ]
    },
    {
     "name": "stderr",
     "output_type": "stream",
     "text": [
      "DEBUG:rpGraph:flat_reac_list: ['RP5', 'RP3', 'RP1']\n",
      "DEBUG:rpGraph:current_reac_list: [['RP5'], ['RP3'], ['RP1']]\n",
      "DEBUG:rpGraph:succ_node_list: ['RP2']\n",
      "DEBUG:rpGraph:multi_reac: ['RP2']\n",
      "DEBUG:rpGraph:multi_reac: ['RP2']\n",
      "DEBUG:rpGraph:current_reac_list: [['RP5'], ['RP3'], ['RP1'], ['RP2']]\n",
      "DEBUG:rpGraph:-------- RP2 --> [['RP5'], ['RP3'], ['RP1'], ['RP2']] ----------\n",
      "DEBUG:rpGraph:flat_reac_list: ['RP5', 'RP3', 'RP1', 'RP2']\n",
      "DEBUG:rpGraph:current_reac_list: [['RP5'], ['RP3'], ['RP1'], ['RP2']]\n",
      "DEBUG:rpGraph:succ_node_list: ['CMPD_0000000003__64__MNXC3', 'MNXM46__64__MNXC3']\n",
      "DEBUG:rpGraph:multi_reac: []\n",
      "DEBUG:rpGraph:multi_reac: []\n",
      "DEBUG:rpGraph:current_reac_list: [['RP5'], ['RP3'], ['RP1'], ['RP2']]\n",
      "DEBUG:rpGraph:-------- CMPD_0000000003__64__MNXC3 --> [['RP5'], ['RP3'], ['RP1'], ['RP2']] ----------\n",
      "DEBUG:rpGraph:flat_reac_list: ['RP5', 'RP3', 'RP1', 'RP2']\n",
      "DEBUG:rpGraph:current_reac_list: [['RP5'], ['RP3'], ['RP1'], ['RP2']]\n",
      "DEBUG:rpGraph:succ_node_list: ['RP1']\n",
      "DEBUG:rpGraph:multi_reac: []\n",
      "DEBUG:rpGraph:multi_reac: []\n",
      "DEBUG:rpGraph:current_reac_list: [['RP5'], ['RP3'], ['RP1'], ['RP2']]\n",
      "DEBUG:rpGraph:-------- MNXM46__64__MNXC3 --> [['RP5'], ['RP3'], ['RP1'], ['RP2']] ----------\n",
      "DEBUG:rpGraph:flat_reac_list: ['RP5', 'RP3', 'RP1', 'RP2']\n",
      "DEBUG:rpGraph:current_reac_list: [['RP5'], ['RP3'], ['RP1'], ['RP2']]\n",
      "DEBUG:rpGraph:succ_node_list: ['RP4']\n",
      "DEBUG:rpGraph:multi_reac: ['RP4']\n",
      "DEBUG:rpGraph:multi_reac: ['RP4']\n",
      "DEBUG:rpGraph:current_reac_list: [['RP5'], ['RP3'], ['RP1'], ['RP2'], ['RP4']]\n",
      "DEBUG:rpGraph:-------- RP4 --> [['RP5'], ['RP3'], ['RP1'], ['RP2'], ['RP4']] ----------\n",
      "DEBUG:rpGraph:flat_reac_list: ['RP5', 'RP3', 'RP1', 'RP2', 'RP4']\n",
      "DEBUG:rpGraph:current_reac_list: [['RP5'], ['RP3'], ['RP1'], ['RP2'], ['RP4']]\n",
      "DEBUG:rpGraph:Returning\n",
      "DEBUG:rpGraph:[[['RP5'], ['RP3'], ['RP1'], ['RP2'], ['RP4']]]\n"
     ]
    },
    {
     "data": {
      "text/plain": [
       "[['RP5'], ['RP3'], ['RP1'], ['RP2'], ['RP4']]"
      ]
     },
     "execution_count": 20,
     "metadata": {},
     "output_type": "execute_result"
    }
   ],
   "source": [
    "rpgraph.orderedRetroReactions()"
   ]
  },
  {
   "cell_type": "code",
   "execution_count": 5,
   "metadata": {},
   "outputs": [
    {
     "name": "stderr",
     "output_type": "stream",
     "text": [
      "DEBUG:rpGraph:node_name: TARGET_0000000001__64__c\n",
      "DEBUG:rpGraph:node: {'type': 'species', 'name': 'TARGET_0000000001', 'miriam': {}, 'brsynth': {'dfG_prime_m': {}, 'dfG_uncert': {}, 'dfG_prime_o': {}, 'smiles': '[H]N([H])C([H])([H])C([H])([H])C([H])([H])C([H])([H])N([H])[H]', 'inchi': 'InChI=1S/C4H12N2/c5-3-1-2-4-6/h1-6H2', 'inchikey': 'KIDHWZJUCRJVML-UHFFFAOYSA-N'}, 'central_species': True}\n",
      "DEBUG:rpGraph:node_name: MNXM23__64__c\n",
      "DEBUG:rpGraph:node: {'type': 'species', 'name': 'pyruvate', 'miriam': {'seed': ['cpd00020'], 'sabiork': ['33'], 'reactome': ['R-ALL-5357717', 'R-ALL-389680', 'R-ALL-29398', 'R-ALL-113557', 'R-ALL-1130930'], 'metacyc': ['PYRUVATE'], 'hmdb': ['HMDB00243'], 'chebi': ['8685', '45253', '26466', '32816', '26462', '14987', '15361'], 'metanetx': ['MNXM89574', 'MNXM723993', 'MNXM162379', 'MNXM23'], 'bigg': ['M_pyr', 'pyr']}, 'brsynth': {'dfG_prime_m': {}, 'dfG_uncert': {}, 'dfG_prime_o': {}, 'smiles': '[H]OC(=O)C(=O)C([H])([H])[H]', 'inchi': 'InChI=1S/C3H4O3/c1-2(4)3(5)6/h1H3,(H,5,6)', 'inchikey': 'LCTONWCANYUPML-UHFFFAOYSA-N'}, 'central_species': False}\n",
      "DEBUG:rpGraph:node_name: CMPD_0000000001__64__c\n",
      "DEBUG:rpGraph:node: {'type': 'species', 'name': 'CMPD_0000000001', 'miriam': {}, 'brsynth': {'dfG_prime_m': {}, 'dfG_uncert': {}, 'dfG_prime_o': {}, 'smiles': '[H]C(=O)C([H])([H])C([H])([H])C([H])([H])N([H])[H]', 'inchi': 'InChI=1S/C4H9NO/c5-3-1-2-4-6/h4H,1-3,5H2', 'inchikey': 'DZQLQEYLEYWJIB-UHFFFAOYSA-N'}, 'central_species': True}\n",
      "DEBUG:rpGraph:node_name: CMPD_0000000003__64__c\n",
      "DEBUG:rpGraph:node: {'type': 'species', 'name': 'CMPD_0000000003', 'miriam': {}, 'brsynth': {'dfG_prime_m': {}, 'dfG_uncert': {}, 'dfG_prime_o': {}, 'smiles': '[H]OC(=O)C([H])(N([H])[H])C([H])([H])[H]', 'inchi': 'InChI=1S/C3H7NO2/c1-2(4)3(5)6/h2H,4H2,1H3,(H,5,6)', 'inchikey': 'QNAYBMKLOCPYGJ-UHFFFAOYSA-N'}, 'central_species': True}\n",
      "DEBUG:rpGraph:node_name: MNXM20__64__c\n",
      "DEBUG:rpGraph:node: {'type': 'species', 'name': '2-oxoglutarate', 'miriam': {'seed': ['cpd00024'], 'sabiork': ['1922'], 'reactome': ['R-ALL-561075', 'R-ALL-5278317', 'R-ALL-389537', 'R-ALL-29406', 'R-ALL-113671', 'R-ALL-113594'], 'metacyc': ['2-KETOGLUTARATE'], 'hmdb': ['HMDB62781', 'HMDB02812', 'HMDB00208'], 'chebi': ['30916', '40661', '19749', '1253', '30915', '19748', '11638', '16810'], 'metanetx': ['MNXM89569', 'MNXM724494', 'MNXM588594', 'MNXM20'], 'bigg': ['M_akg', 'akg']}, 'brsynth': {'dfG_prime_m': {}, 'dfG_uncert': {}, 'dfG_prime_o': {}, 'smiles': 'O=C(O)CCC(=O)C(=O)O', 'inchi': 'InChI=1S/C5H6O5/c6-3(5(9)10)1-2-4(7)8/h1-2H2,(H,7,8)(H,9,10)', 'inchikey': 'KPGXRSRHYNQIFN-UHFFFAOYSA-N'}, 'central_species': False}\n",
      "DEBUG:rpGraph:node_name: MNXM89557__64__c\n",
      "DEBUG:rpGraph:node: {'type': 'species', 'name': 'L-glutamate', 'miriam': {'seed': ['cpd27177', 'cpd19002', 'cpd00023'], 'sabiork': ['73', '2010'], 'reactome': ['R-ALL-428614', 'R-ALL-29404', 'R-ALL-210382', 'R-ALL-113552'], 'metacyc': ['Glutamates', 'GLT'], 'hmdb': ['HMDB60475', 'HMDB00148'], 'chebi': ['76051', '29988', '29987', '21301', '13107', '29985', '5431', '24314', '18237', '6224', '42825', '21304', '16015', '14321'], 'metanetx': ['MNXM96412', 'MNXM18', 'MNXM89557'], 'bigg': ['M_glu__L', 'glu__L']}, 'brsynth': {'dfG_prime_m': {}, 'dfG_uncert': {}, 'dfG_prime_o': {}, 'smiles': '[H]OC(=O)C([H])([H])C([H])([H])C([H])(C(=O)O[H])N([H])[H]', 'inchi': 'InChI=1S/C5H9NO4/c6-3(5(9)10)1-2-4(7)8/h3H,1-2,6H2,(H,7,8)(H,9,10)', 'inchikey': 'WHUUTDBJXJRKMK-UHFFFAOYSA-N'}, 'central_species': False}\n",
      "DEBUG:rpGraph:node_name: MNXM2__64__c\n",
      "DEBUG:rpGraph:node: {'type': 'species', 'name': 'H2O', 'miriam': {'seed': ['cpd27222', 'cpd15275', 'cpd00001'], 'sabiork': ['40'], 'reactome': ['R-ALL-8851517', 'R-ALL-5693747', 'R-ALL-5668574', 'R-ALL-5278291', 'R-ALL-351603', 'R-ALL-29356', 'R-ALL-2022884', 'R-ALL-189422', 'R-ALL-1605715', 'R-ALL-141343', 'R-ALL-113521', 'R-ALL-113519', 'R-ALL-113518', 'R-ALL-109276'], 'metacyc': ['WATER', 'OXONIUM', 'OH', 'HYDROXYL-GROUP', 'CPD-15815'], 'hmdb': ['HMDB02111', 'HMDB01039'], 'chebi': ['33813', '30490', '29412', '29356', '5594', '44641', '13419', '13365', '16234', '5585', '44819', '44701', '44292', '43228', '42857', '42043', '27313', '13352', '10743', '15377'], 'metanetx': ['MNXM89551', 'MNXM725472', 'MNXM724204', 'MNXM722958', 'MNXM56889', 'MNXM527231', 'MNXM145357', 'MNXM128935', 'MNXM11838', 'MNXM114753', 'MNXM114710', 'MNXM2'], 'bigg': ['M_oh1', 'oh1', 'M_h2o', 'h2o']}, 'brsynth': {'dfG_prime_m': {}, 'dfG_uncert': {}, 'dfG_prime_o': {}, 'smiles': 'O', 'inchi': 'InChI=1S/H2O/h1H2', 'inchikey': 'XLYOFNOQVPJJNP-UHFFFAOYSA-N'}, 'central_species': False}\n",
      "DEBUG:rpGraph:node_name: MNXM5__64__c\n",
      "DEBUG:rpGraph:node: {'type': 'species', 'name': 'NADP(+)', 'miriam': {'seed': ['cpd00006'], 'sabiork': ['1263'], 'reactome': ['R-ALL-6790191', 'R-ALL-5623650', 'R-ALL-389556', 'R-ALL-351628', 'R-ALL-29366', 'R-ALL-2000348', 'R-ALL-194668', 'R-ALL-113564', 'R-ALL-113563'], 'metacyc': ['NADP'], 'hmdb': ['HMDB00217'], 'chebi': ['58349', '44405', '13397', '44409', '25523', '7424', '29868', '21903', '13398', '18009'], 'metanetx': ['MNXM96408', 'MNXM89560', 'MNXM64103', 'MNXM588022', 'MNXM5'], 'bigg': ['M_nadp', 'nadp']}, 'brsynth': {'dfG_prime_m': {}, 'dfG_uncert': {}, 'dfG_prime_o': {}, 'smiles': 'N=C(O)c1ccc[n+](C2OC(COP(=O)(O)OP(=O)(O)OCC3OC(n4cnc5c(N)ncnc54)C(OP(=O)(O)O)C3O)C(O)C2O)c1', 'inchi': 'InChI=1S/C21H28N7O17P3/c22-17-12-19(25-7-24-17)28(8-26-12)21-16(44-46(33,34)35)14(30)11(43-21)6-41-48(38,39)45-47(36,37)40-5-10-13(29)15(31)20(42-10)27-3-1-2-9(4-27)18(23)32/h1-4,7-8,10-11,13-16,20-21,29-31H,5-6H2,(H7-,22,23,24,25,32,33,34,35,36,37,38,39)/p+1', 'inchikey': 'XJLXINKUBYWONI-UHFFFAOYSA-O'}, 'central_species': False}\n",
      "DEBUG:rpGraph:node_name: CMPD_0000000010__64__c\n",
      "DEBUG:rpGraph:node: {'type': 'species', 'name': 'CMPD_0000000010', 'miriam': {}, 'brsynth': {'dfG_prime_m': {}, 'dfG_uncert': {}, 'dfG_prime_o': {}, 'smiles': '[H]OC(=O)C([H])([H])C([H])([H])C([H])([H])N([H])[H]', 'inchi': 'InChI=1S/C4H9NO2/c5-3-1-2-4(6)7/h1-3,5H2,(H,6,7)', 'inchikey': 'BTCSSZJGUNDROE-UHFFFAOYSA-N'}, 'central_species': True}\n",
      "DEBUG:rpGraph:node_name: MNXM6__64__c\n",
      "DEBUG:rpGraph:node: {'type': 'species', 'name': 'NADH-P-OR-NOP', 'miriam': {'seed': ['cpd27640', 'cpd00005'], 'sabiork': ['1262'], 'reactome': ['R-ALL-6790135', 'R-ALL-5623644', 'R-ALL-351627', 'R-ALL-29364', 'R-ALL-2000347', 'R-ALL-194725', 'R-ALL-113602', 'R-ALL-113601', 'R-ALL-113600'], 'metacyc': ['NADPH', 'NADH-P-OR-NOP'], 'hmdb': ['HMDB06341', 'HMDB00799', 'HMDB00221'], 'chebi': ['57783', '7425', '44286', '21904', '13400', '13399', '16474'], 'metanetx': ['MNXM96040', 'MNXM89561', 'MNXM89556', 'MNXM64104', 'MNXM162231', 'MNXM6'], 'bigg': ['M_nadph', 'nadph']}, 'brsynth': {'dfG_prime_m': {}, 'dfG_uncert': {}, 'dfG_prime_o': {}, 'smiles': '[H]N=C(O[H])C1=C([H])N(C2([H])OC([H])(C([H])([H])OP(=O)(O[H])OP(=O)(O[H])OC([H])([H])C3([H])OC([H])(n4c([H])nc5c(N([H])[H])nc([H])nc54)C([H])(OP(=O)(O[H])O[H])C3([H])O[H])C([H])(O[H])C2([H])O[H])C([H])=C([H])C1([H])[H]', 'inchi': 'InChI=1S/C21H30N7O17P3/c22-17-12-19(25-7-24-17)28(8-26-12)21-16(44-46(33,34)35)14(30)11(43-21)6-41-48(38,39)45-47(36,37)40-5-10-13(29)15(31)20(42-10)27-3-1-2-9(4-27)18(23)32/h1,3-4,7-8,10-11,13-16,20-21,29-31H,2,5-6H2,(H2,23,32)(H,36,37)(H,38,39)(H2,22,24,25)(H2,33,34,35)', 'inchikey': 'ACFIXJIJDZMPPO-UHFFFAOYSA-N'}, 'central_species': False}\n",
      "DEBUG:rpGraph:node_name: MNXM1__64__c\n",
      "DEBUG:rpGraph:node: {'type': 'species', 'name': 'H(+)', 'miriam': {'seed': ['cpd00067'], 'sabiork': ['39'], 'reactome': ['R-ALL-74722', 'R-ALL-70106', 'R-ALL-5668577', 'R-ALL-428548', 'R-ALL-428040', 'R-ALL-427899', 'R-ALL-425999', 'R-ALL-425978', 'R-ALL-425969', 'R-ALL-374900', 'R-ALL-372511', 'R-ALL-351626', 'R-ALL-2872447', 'R-ALL-2000349', 'R-ALL-194688', 'R-ALL-193465', 'R-ALL-163953', 'R-ALL-156540', 'R-ALL-1470067', 'R-ALL-113529', 'R-ALL-1132304'], 'metacyc': ['PROTON'], 'hmdb': ['HMDB59597'], 'chebi': ['5584', '13357', '10744', '15378'], 'bigg': ['M_h', 'h'], 'metanetx': ['MNXM89553', 'MNXM145872', 'MNXM1', 'MNXM01']}, 'brsynth': {'dfG_prime_m': {}, 'dfG_uncert': {}, 'dfG_prime_o': {}, 'smiles': '[H+]', 'inchi': 'InChI=1S/p+1', 'inchikey': 'GPRLSGONYQIRFK-UHFFFAOYSA-N'}, 'central_species': False}\n",
      "DEBUG:rpGraph:node_name: MNXM161__64__c\n"
     ]
    },
    {
     "name": "stderr",
     "output_type": "stream",
     "text": [
      "DEBUG:rpGraph:node: {'type': 'species', 'name': \"pyridoxal 5'-phosphate\", 'miriam': {'seed': ['cpd00016'], 'sabiork': ['1271'], 'reactome': ['R-ALL-29390'], 'metacyc': ['PYRIDOXAL_PHOSPHATE'], 'hmdb': ['HMDB01491'], 'chebi': ['597326', '8668', '45145', '358848', '26424', '234571', '14977', '18405'], 'metanetx': ['MNXM90145', 'MNXM89648', 'MNXM161'], 'bigg': ['M_pydx5p', 'pydx5p']}, 'brsynth': {'dfG_prime_m': {}, 'dfG_uncert': {}, 'dfG_prime_o': {}, 'smiles': 'Cc1ncc(COP(=O)(O)O)c(C=O)c1O', 'inchi': 'InChI=1S/C8H10NO6P/c1-5-8(11)7(3-10)6(2-9-5)4-15-16(12,13)14/h2-3,11H,4H2,1H3,(H2,12,13,14)', 'inchikey': 'NGVDGCNFYWLIFO-UHFFFAOYSA-N'}, 'central_species': False}\n",
      "DEBUG:rpGraph:node_name: MNXM13__64__c\n",
      "DEBUG:rpGraph:node: {'type': 'species', 'name': 'CO2', 'miriam': {'seed': ['cpd00011'], 'sabiork': ['1266'], 'reactome': ['R-ALL-5668565', 'R-ALL-389536', 'R-ALL-29376', 'R-ALL-189480', 'R-ALL-159942', 'R-ALL-159751', 'R-ALL-1237009', 'R-ALL-113528', 'R-ALL-1132345'], 'metacyc': ['CARBON-DIOXIDE'], 'hmdb': ['HMDB01967'], 'chebi': ['48829', '3283', '23011', '13285', '13284', '13283', '13282', '16526'], 'metanetx': ['MNXM89563', 'MNXM723713', 'MNXM13'], 'bigg': ['M_co2', 'co2']}, 'brsynth': {'dfG_prime_m': {}, 'dfG_uncert': {}, 'dfG_prime_o': {}, 'smiles': 'O=C=O', 'inchi': 'InChI=1S/CO2/c2-1-3', 'inchikey': 'CURLTUGMZLYLDI-UHFFFAOYSA-N'}, 'central_species': False}\n",
      "DEBUG:rpGraph:node_name: RP1\n",
      "DEBUG:rpGraph:node: {'type': 'reaction', 'miriam': {'ec-code': ['2.6.1.-', '2.6.1']}, 'brsynth': {'dfG_prime_m': {}, 'dfG_uncert': {}, 'dfG_prime_o': {}, 'path_id': {'value': 3}, 'step_id': {'value': 1}, 'sub_step_id': {'value': 8}, 'rule_score': {'value': 1.0}, 'smiles': '[H]N([H])C([H])([H])C([H])([H])C([H])([H])C([H])([H])N([H])[H].CC(=O)C(=O)O>>[H]C(=O)C([H])([H])C([H])([H])C([H])([H])N([H])[H].[H]OC(=O)C([H])(N([H])[H])C([H])([H])[H]', 'rule_id': 'RR-02-7beef5164effc36f-16-F', 'rule_ori_reac': '<brsynth:mnxr value=\"MNXR112228\"/>'}}\n",
      "DEBUG:rpGraph:node_name: RP2\n",
      "DEBUG:rpGraph:node: {'type': 'reaction', 'miriam': {'ec-code': ['2.6.1.2', '2.6.1.21']}, 'brsynth': {'dfG_prime_m': {}, 'dfG_uncert': {}, 'dfG_prime_o': {}, 'path_id': {'value': 3}, 'step_id': {'value': 2}, 'sub_step_id': {'value': 8}, 'rule_score': {'value': 0.5072453814508928}, 'smiles': '[H]OC(=O)C([H])(N([H])[H])C([H])([H])[H].O=C(O)CCC(=O)C(=O)O>>[H]OC(=O)C(=O)C([H])([H])[H].[H]OC(=O)C([H])([H])C([H])([H])C([H])(C(=O)O[H])N([H])[H]', 'rule_id': 'RR-02-4511439d3550f8d2-16-F', 'rule_ori_reac': '<brsynth:mnxr value=\"MNXR136532\"/>'}}\n",
      "DEBUG:rpGraph:node_name: RP3\n",
      "DEBUG:rpGraph:node: {'type': 'reaction', 'miriam': {'ec-code': ['1.2.1.3', '1.2.1']}, 'brsynth': {'dfG_prime_m': {}, 'dfG_uncert': {}, 'dfG_prime_o': {}, 'path_id': {'value': 3}, 'step_id': {'value': 3}, 'sub_step_id': {'value': 8}, 'rule_score': {'value': 1.0}, 'smiles': '[H]C(=O)C([H])([H])C([H])([H])C([H])([H])N([H])[H].O.N=C(O)c1ccc[n+](C2OC(COP(=O)(O)OP(=O)(O)OCC3OC(n4cnc5c(N)ncnc54)C(OP(=O)(O)O)C3O)C(O)C2O)c1>>[H]N=C(O[H])C1=C([H])N(C2([H])OC([H])(C([H])([H])OP(=O)(O[H])OP(=O)(O[H])OC([H])([H])C3([H])OC([H])(n4c([H])nc5c(N([H])[H])nc([H])nc54)C([H])(OP(=O)(O[H])O[H])C3([H])O[H])C([H])(O[H])C2([H])O[H])C([H])=C([H])C1([H])[H].[H]OC(=O)C([H])([H])C([H])([H])C([H])([H])N([H])[H].[H+].[H+]', 'rule_id': 'RR-02-d14b4b5810e6ac1d-16-F', 'rule_ori_reac': '<brsynth:mnxr value=\"MNXR94991\"/>'}}\n",
      "DEBUG:rpGraph:node_name: RP4\n",
      "DEBUG:rpGraph:node: {'type': 'reaction', 'miriam': {'ec-code': ['4.1.1.15']}, 'brsynth': {'dfG_prime_m': {}, 'dfG_uncert': {}, 'dfG_prime_o': {}, 'path_id': {'value': 3}, 'step_id': {'value': 4}, 'sub_step_id': {'value': 8}, 'rule_score': {'value': 0.5535020828491215}, 'smiles': '[H]OC(=O)C([H])([H])C([H])([H])C([H])([H])N([H])[H].Cc1ncc(COP(=O)(O)O)c(C=O)c1O.O=C=O>>[H]OC(=O)C([H])([H])C([H])([H])C([H])(C(=O)O[H])N([H])[H].Cc1ncc(COP(=O)(O)O)c(C=O)c1O.[H+]', 'rule_id': 'RR-02-39ac6edaebaafb5e-16-F', 'rule_ori_reac': '<brsynth:mnxr value=\"MNXR125097\"/>'}}\n"
     ]
    },
    {
     "data": {
      "text/plain": [
       "['TARGET_0000000001__64__c',\n",
       " 'MNXM20__64__c',\n",
       " 'MNXM2__64__c',\n",
       " 'MNXM5__64__c',\n",
       " 'MNXM13__64__c']"
      ]
     },
     "execution_count": 5,
     "metadata": {},
     "output_type": "execute_result"
    }
   ],
   "source": [
    "rpgraph._onlyProducedSpecies()"
   ]
  },
  {
   "cell_type": "code",
   "execution_count": 6,
   "metadata": {},
   "outputs": [
    {
     "name": "stderr",
     "output_type": "stream",
     "text": [
      "DEBUG:rpGraph:-------- TARGET_0000000001__64__c --> [] ----------\n",
      "DEBUG:rpGraph:['RP1']\n",
      "DEBUG:rpGraph:-------- RP1 --> ['RP1'] ----------\n",
      "DEBUG:rpGraph:['CMPD_0000000001__64__c', 'CMPD_0000000003__64__c']\n",
      "DEBUG:rpGraph:-------- CMPD_0000000001__64__c --> ['RP1'] ----------\n",
      "DEBUG:rpGraph:['RP3']\n",
      "DEBUG:rpGraph:-------- RP3 --> ['RP1', 'RP3'] ----------\n",
      "DEBUG:rpGraph:['CMPD_0000000010__64__c', 'MNXM6__64__c', 'MNXM1__64__c']\n",
      "DEBUG:rpGraph:-------- CMPD_0000000010__64__c --> ['RP1', 'RP3'] ----------\n",
      "DEBUG:rpGraph:['RP4']\n",
      "DEBUG:rpGraph:-------- RP4 --> ['RP1', 'RP3', 'RP4'] ----------\n",
      "DEBUG:rpGraph:['MNXM89557__64__c', 'MNXM161__64__c', 'MNXM1__64__c']\n",
      "DEBUG:rpGraph:-------- CMPD_0000000003__64__c --> ['RP1', 'RP3', 'RP4'] ----------\n",
      "DEBUG:rpGraph:['RP2']\n",
      "DEBUG:rpGraph:-------- RP2 --> ['RP1', 'RP3', 'RP4', 'RP2'] ----------\n",
      "DEBUG:rpGraph:['MNXM23__64__c', 'MNXM89557__64__c']\n"
     ]
    },
    {
     "data": {
      "text/plain": [
       "['RP1', 'RP3', 'RP4', 'RP2']"
      ]
     },
     "execution_count": 6,
     "metadata": {},
     "output_type": "execute_result"
    }
   ],
   "source": [
    "rpgraph._recursiveReacPredecessors('TARGET_0000000001__64__c', [])"
   ]
  },
  {
   "cell_type": "code",
   "execution_count": null,
   "metadata": {},
   "outputs": [],
   "source": []
  },
  {
   "cell_type": "code",
   "execution_count": null,
   "metadata": {},
   "outputs": [],
   "source": []
  },
  {
   "cell_type": "code",
   "execution_count": null,
   "metadata": {},
   "outputs": [],
   "source": []
  },
  {
   "cell_type": "code",
   "execution_count": 15,
   "metadata": {},
   "outputs": [
    {
     "name": "stderr",
     "output_type": "stream",
     "text": [
      "DEBUG:rpGraph:node_name: TARGET_0000000001__64__MNXC3\n",
      "DEBUG:rpGraph:node: {'type': 'species', 'name': 'TARGET_0000000001', 'miriam': {}, 'brsynth': {'dfG_prime_m': {}, 'dfG_uncert': {}, 'dfG_prime_o': {}, 'smiles': '[H]OC(=O)C([H])=C([H])C([H])=C([H])C(=O)O[H]', 'inchi': 'InChI=1S/C6H6O4/c7-5(8)3-1-2-4-6(9)10/h1-4H,(H,7,8)(H,9,10)', 'inchikey': 'TXXHDPDFNKHHGW-UHFFFAOYSA-N'}, 'central_species': True}\n",
      "DEBUG:rpGraph:node_name: MNXM1__64__MNXC3\n",
      "DEBUG:rpGraph:node: {'type': 'species', 'name': 'H(+)', 'miriam': {'metanetx': ['MNXM01', 'MNXM1', 'MNXM145872', 'MNXM89553'], 'bigg': ['h', 'M_h'], 'chebi': ['15378', '10744', '13357', '5584'], 'hmdb': ['HMDB59597'], 'kegg': ['C00080'], 'metacyc': ['PROTON'], 'reactome': ['1132304', '113529', '1470067', '156540', '163953', '193465', '194688', '2000349', '2872447', '351626', '372511', '374900', '425969', '425978', '425999', '427899', '428040', '428548', '5668577', '70106', '74722'], 'seed': ['39', 'cpd00067']}, 'brsynth': {'dfG_prime_m': {'units': 'kj_per_mol', 'value': -34.22967506944207}, 'dfG_uncert': {'units': 'kj_per_mol', 'value': 0.0}, 'dfG_prime_o': {'units': 'kj_per_mol', 'value': 0.0}, 'smiles': '[H+]', 'inchi': 'InChI=1S/p+1', 'inchikey': 'GPRLSGONYQIRFK-UHFFFAOYSA-N'}, 'central_species': False}\n",
      "DEBUG:rpGraph:node_name: CMPD_0000000003__64__MNXC3\n",
      "DEBUG:rpGraph:node: {'type': 'species', 'name': 'CMPD_0000000003', 'miriam': {}, 'brsynth': {'dfG_prime_m': {'units': 'kj_per_mol', 'value': -17.114837534721033}, 'dfG_uncert': {'units': 'kj_per_mol', 'value': 0.0}, 'dfG_prime_o': {'units': 'kj_per_mol', 'value': 0.0}, 'smiles': '[H]Oc1c([H])c([H])c([H])c([H])c1O[H]', 'inchi': 'InChI=1S/C6H6O2/c7-5-3-1-2-4-6(5)8/h1-4,7-8H', 'inchikey': 'YCIMNLLNPGFGHC-UHFFFAOYSA-N'}, 'central_species': True}\n",
      "DEBUG:rpGraph:node_name: MNXM4__64__MNXC3\n",
      "DEBUG:rpGraph:node: {'type': 'species', 'name': 'O2', 'miriam': {'bigg': ['o2', 'M_o2'], 'metanetx': ['MNXM4', 'MNXM114217', 'MNXM89559', 'MNXM97007'], 'chebi': ['15379', '10745', '13416', '23833', '25366', '29097', '30491', '44742', '7860', '26689', '27140', '29793'], 'hmdb': ['HMDB01377'], 'kegg': ['C00007', 'D00003'], 'metacyc': ['OXYGEN-MOLECULE'], 'reactome': ['1131511', '113533', '113534', '113535', '113685', '1236709', '189461', '29368', '351593', '352327', '5668566'], 'seed': ['1264', 'cpd00007']}, 'brsynth': {'dfG_prime_m': {'units': 'kj_per_mol', 'value': -0.7148375347210347}, 'dfG_uncert': {'units': 'kj_per_mol', 'value': 0.0}, 'dfG_prime_o': {'units': 'kj_per_mol', 'value': 16.4}, 'smiles': 'O=O', 'inchi': 'InChI=1S/O2/c1-2', 'inchikey': 'MYMOFIZGZYHOMD-UHFFFAOYSA-N'}, 'central_species': True}\n",
      "DEBUG:rpGraph:node_name: MNXM2__64__MNXC3\n",
      "DEBUG:rpGraph:node: {'type': 'species', 'name': 'H2O', 'miriam': {'bigg': ['h2o', 'M_h2o', 'oh1', 'M_oh1'], 'metanetx': ['MNXM2', 'MNXM114710', 'MNXM114753', 'MNXM11838', 'MNXM128935', 'MNXM145357', 'MNXM527231', 'MNXM56889', 'MNXM722958', 'MNXM724204', 'MNXM725472', 'MNXM89551'], 'chebi': ['15377', '10743', '13352', '27313', '42043', '42857', '43228', '44292', '44701', '44819', '5585', '16234', '13365', '13419', '44641', '5594', '29356', '29412', '30490', '33813'], 'hmdb': ['HMDB01039', 'HMDB02111'], 'kegg': ['C00001', 'D00001', 'C01328', 'D06322'], 'metacyc': ['CPD-15815', 'HYDROXYL-GROUP', 'OH', 'OXONIUM', 'WATER'], 'reactome': ['109276', '113518', '113519', '113521', '141343', '1605715', '189422', '2022884', '29356', '351603', '5278291', '5668574', '5693747', '8851517'], 'seed': ['40', 'cpd00001', 'cpd15275', 'cpd27222']}, 'brsynth': {'dfG_prime_m': {'units': 'kj_per_mol', 'value': -157.62662963113732}, 'dfG_uncert': {'units': 'kj_per_mol', 'value': 0.0}, 'dfG_prime_o': {'units': 'kj_per_mol', 'value': -157.62662963113732}, 'smiles': 'O', 'inchi': 'InChI=1S/H2O/h1H2', 'inchikey': 'XLYOFNOQVPJJNP-UHFFFAOYSA-N'}, 'central_species': False}\n",
      "DEBUG:rpGraph:node_name: MNXM8__64__MNXC3\n",
      "DEBUG:rpGraph:node: {'type': 'species', 'name': 'NAD(+)', 'miriam': {'bigg': ['nad', 'M_nad'], 'metanetx': ['MNXM8', 'MNXM588016', 'MNXM96411'], 'chebi': ['15846', '13394', '21901', '29867', '7422', '44215', '13393', '44214', '44281', '57540'], 'hmdb': ['HMDB00902'], 'kegg': ['C00003', 'D00002'], 'metacyc': ['NAD'], 'reactome': ['113526', '192307', '194653', '29360', '352330'], 'seed': ['37', 'cpd00003']}, 'brsynth': {'dfG_prime_m': {'units': 'kj_per_mol', 'value': -1222.8684080757257}, 'dfG_uncert': {'units': 'kj_per_mol', 'value': 0.0}, 'dfG_prime_o': {'units': 'kj_per_mol', 'value': -1205.7535705410046}, 'smiles': 'N=C(O)c1ccc[n+](C2OC(COP(=O)(O)OP(=O)(O)OCC3OC(n4cnc5c(N)ncnc54)C(O)C3O)C(O)C2O)c1', 'inchi': 'InChI=1S/C21H27N7O14P2/c22-17-12-19(25-7-24-17)28(8-26-12)21-16(32)14(30)11(41-21)6-39-44(36,37)42-43(34,35)38-5-10-13(29)15(31)20(40-10)27-3-1-2-9(4-27)18(23)33/h1-4,7-8,10-11,13-16,20-21,29-32H,5-6H2,(H5-,22,23,24,25,33,34,35,36,37)/p+1', 'inchikey': 'BAWFJGJZGIEFAR-UHFFFAOYSA-O'}, 'central_species': False}\n",
      "DEBUG:rpGraph:node_name: CMPD_0000000009__64__MNXC3\n",
      "DEBUG:rpGraph:node: {'type': 'species', 'name': 'CMPD_0000000009', 'miriam': {}, 'brsynth': {'dfG_prime_m': {'units': 'kj_per_mol', 'value': -1222.8684080757257}, 'dfG_uncert': {'units': 'kj_per_mol', 'value': 0.0}, 'dfG_prime_o': {'units': 'kj_per_mol', 'value': -1205.7535705410046}, 'smiles': '[H]Oc1c([H])c([H])c([H])c([H])c1[H]', 'inchi': 'InChI=1S/C6H6O/c7-6-4-2-1-3-5-6/h1-5,7H', 'inchikey': 'ISWSIDIOOBJBQZ-UHFFFAOYSA-N'}, 'central_species': True}\n",
      "DEBUG:rpGraph:node_name: MNXM10__64__MNXC3\n",
      "DEBUG:rpGraph:node: {'type': 'species', 'name': 'NADH', 'miriam': {'bigg': ['nadh', 'M_nadh'], 'metanetx': ['MNXM10', 'MNXM89564'], 'chebi': ['16908', '13395', '13396', '21902', '44216', '7423', '57945'], 'hmdb': ['HMDB01487'], 'kegg': ['C00004'], 'metacyc': ['NADH'], 'reactome': ['192305', '194697', '29362', '73473'], 'seed': ['38', 'cpd00004']}, 'brsynth': {'dfG_prime_m': {'units': 'kj_per_mol', 'value': -1158.7318413315531}, 'dfG_uncert': {'units': 'kj_per_mol', 'value': 0.0}, 'dfG_prime_o': {'units': 'kj_per_mol', 'value': -1141.617003796832}, 'smiles': '[H]N=C(O[H])C1=C([H])N(C2([H])OC([H])(C([H])([H])OP(=O)(O[H])OP(=O)(O[H])OC([H])([H])C3([H])OC([H])(n4c([H])nc5c(N([H])[H])nc([H])nc54)C([H])(O[H])C3([H])O[H])C([H])(O[H])C2([H])O[H])C([H])=C([H])C1([H])[H]', 'inchi': 'InChI=1S/C21H29N7O14P2/c22-17-12-19(25-7-24-17)28(8-26-12)21-16(32)14(30)11(41-21)6-39-44(36,37)42-43(34,35)38-5-10-13(29)15(31)20(40-10)27-3-1-2-9(4-27)18(23)33/h1,3-4,7-8,10-11,13-16,20-21,29-32H,2,5-6H2,(H2,23,33)(H,34,35)(H,36,37)(H2,22,24,25)', 'inchikey': 'BOPGDPNILDQYTO-UHFFFAOYSA-N'}, 'central_species': True}\n",
      "DEBUG:rpGraph:node_name: MNXM13__64__MNXC3\n",
      "DEBUG:rpGraph:node: {'type': 'species', 'name': 'CO2', 'miriam': {'bigg': ['co2', 'M_co2'], 'metanetx': ['MNXM13', 'MNXM723713', 'MNXM89563'], 'chebi': ['16526', '13282', '13283', '13284', '13285', '23011', '3283', '48829'], 'hmdb': ['HMDB01967'], 'kegg': ['C00011', 'D00004'], 'metacyc': ['CARBON-DIOXIDE'], 'reactome': ['1132345', '113528', '1237009', '159751', '159942', '189480', '29376', '389536', '5668565'], 'seed': ['1266', 'cpd00011']}, 'brsynth': {'dfG_prime_m': {'units': 'kj_per_mol', 'value': -403.1148375347211}, 'dfG_uncert': {'units': 'kj_per_mol', 'value': 0.0}, 'dfG_prime_o': {'units': 'kj_per_mol', 'value': -386.00000000000006}, 'smiles': 'O=C=O', 'inchi': 'InChI=1S/CO2/c2-1-3', 'inchikey': 'CURLTUGMZLYLDI-UHFFFAOYSA-N'}, 'central_species': False}\n",
      "DEBUG:rpGraph:node_name: MNXM164__64__MNXC3\n",
      "DEBUG:rpGraph:node: {'type': 'species', 'name': '4-hydroxybenzoate', 'miriam': {'bigg': ['4hbz', 'M_4hbz'], 'metanetx': ['MNXM164', 'MNXM723781', 'MNXM723977'], 'chebi': ['17879', '12003', '20397', '30763', '1858', '20398', '44949'], 'hmdb': ['HMDB00500'], 'kegg': ['C00156'], 'metacyc': ['4-hydroxybenzoate'], 'reactome': ['2162213'], 'seed': ['1951', 'cpd00136']}, 'brsynth': {'dfG_prime_m': {'units': 'kj_per_mol', 'value': -233.72130977398496}, 'dfG_uncert': {'units': 'kj_per_mol', 'value': 0.0}, 'dfG_prime_o': {'units': 'kj_per_mol', 'value': -216.60647223926392}, 'smiles': '[H]OC(=O)c1c([H])c([H])c(O[H])c([H])c1[H]', 'inchi': 'InChI=1S/C7H6O3/c8-6-3-1-5(2-4-6)7(9)10/h1-4,8H,(H,9,10)', 'inchikey': 'FJKROLUGYXJWQN-UHFFFAOYSA-N'}, 'central_species': True}\n",
      "DEBUG:rpGraph:node_name: RP1\n"
     ]
    },
    {
     "name": "stderr",
     "output_type": "stream",
     "text": [
      "DEBUG:rpGraph:node: {'type': 'reaction', 'miriam': {'ec-code': ['1.13.11.1'], 'uniprot': ['P07773', 'P81422', 'O33948', 'O33950', 'Q43984', 'P31019', 'Q0VH42', 'A0F0B5', 'P83715', 'Q9AEQ0', 'P95607', 'P86029', 'P17262', 'P06622', 'Q04285', 'P27887', 'P08127', 'P17296', 'P31003', 'Q53034', 'P54721', 'O33949', 'Q43931', 'O33946', 'A0F0B3', 'Q4KPK2', 'D2STN1', 'D2STN2', 'P08310', 'C6FI40', 'B1GRL8', 'C6FI41', 'B1GRL9', 'Q9WXE6', 'P95608', 'P46057', 'P85026', 'P43311', 'P43310', 'Q9ZP19', 'Q9MB14', 'Q06215', 'Q06355', 'P43309', 'Q08305', 'Q08296', 'Q08307', 'Q08304', 'Q08303', 'Q08306']}, 'brsynth': {'dfG_prime_m': {'units': 'kj_per_mol', 'value': -16.4}, 'dfG_uncert': {'units': 'kj_per_mol', 'value': 0.0}, 'dfG_prime_o': {'units': 'kj_per_mol', 'value': -16.4}, 'path_id': {'value': 7}, 'step_id': {'value': 1}, 'sub_step_id': {'value': 1}, 'rule_score': {'value': 0.5982208769718989}, 'smiles': '[H]OC(=O)C([H])=C([H])C([H])=C([H])C(=O)O[H]>>O=O.[H]Oc1c([H])c([H])c([H])c([H])c1O[H]', 'selenzyme': {'P07773': 89.9, 'P81422': 89.9, 'O33948': 89.9, 'O33950': 89.9, 'Q43984': 89.8, 'P31019': 89.7, 'Q0VH42': 89.6, 'A0F0B5': 89.6, 'P83715': 88.9, 'Q9AEQ0': 88.6, 'P95607': 84.9, 'P86029': 76.9, 'P17262': 69.374, 'P06622': 68.574, 'Q04285': 68.374, 'P27887': 68.374, 'P08127': 68.374, 'P17296': 67.374, 'P31003': 64.374, 'Q53034': 64.374, 'P54721': 61.574, 'O33949': 60.418, 'Q43931': 60.418, 'O33946': 60.418, 'A0F0B3': 60.318, 'Q4KPK2': 60.318, 'D2STN1': 60.249, 'D2STN2': 60.249, 'P08310': 59.618, 'C6FI40': 59.249, 'B1GRL8': 59.249, 'C6FI41': 59.249, 'B1GRL9': 59.249, 'Q9WXE6': 58.549, 'P95608': 55.618, 'P46057': 50.618, 'P85026': 46.86, 'P43311': 44.86, 'P43310': 44.76, 'Q9ZP19': 43.86, 'Q9MB14': 43.76, 'Q06215': 42.86, 'Q06355': 42.76, 'P43309': 42.76, 'Q08305': 41.66, 'Q08296': 41.66, 'Q08307': 41.66, 'Q08304': 41.66, 'Q08303': 41.66, 'Q08306': 41.66}, 'rule_id': 'RR-02-a0cc0be463ff412f-16-F', 'rule_mnxr': 'MNXR96458', 'fba_obj_R4E13957D': {'units': 'mmol_per_gDW_per_hr', 'value': 0.0}, 'fba_rpFBA_obj': {'units': 'mmol_per_gDW_per_hr', 'value': 0.0}}}\n",
      "DEBUG:rpGraph:node_name: RP2\n",
      "DEBUG:rpGraph:node: {'type': 'reaction', 'miriam': {'ec-code': ['1.14.13.-', '1.14.13.M20'], 'uniprot': ['P19734', 'P19731', 'P31020', 'P19733', 'P19729', 'P19730', 'P19732', 'Q01551', 'Q7WTJ2', 'Q7WTJ6', 'P15245', 'Q0VH44', 'P23262', 'Q53552', 'O85675', 'O85674', 'O85673', 'Q9ZI64', 'C3UVB9', 'C3UVB8', 'C3UVB6', 'Q51603', 'Q51601', 'Q51602', 'Q84BZ0', 'Q84BZ1', 'Q84BZ3', 'Q84BZ2', 'Q8RTL4', 'Q8RTL3', 'P07772', 'Q8RTL5', 'P23102', 'P08088', 'Q0KAB0', 'Q6DF30', 'Q6DKE0', 'Q9TV70', 'Q9TV69', 'Q9TV68', 'Q642M9', 'Q148L6', 'P52895', 'Q04828', 'P17516', 'Q9TQS6', 'Q9DBB8', 'Q5R7C9', 'Q5R5J5', 'Q7JK39']}, 'brsynth': {'dfG_prime_m': {'units': 'kj_per_mol', 'value': 1001.8200492351368}, 'dfG_uncert': {'units': 'kj_per_mol', 'value': 0.0}, 'dfG_prime_o': {'units': 'kj_per_mol', 'value': 967.5903741656947}, 'path_id': {'value': 7}, 'step_id': {'value': 2}, 'sub_step_id': {'value': 1}, 'rule_score': {'value': 0.5683242688496836}, 'smiles': '[H]Oc1c([H])c([H])c([H])c([H])c1O[H]>>O=O.[H]N=C(O[H])C1=C([H])N(C2([H])OC([H])(C([H])([H])OP(=O)(O[H])OP(=O)(O[H])OC([H])([H])C3([H])OC([H])(n4c([H])nc5c(N([H])[H])nc([H])nc54)C([H])(O[H])C3([H])O[H])C([H])(O[H])C2([H])O[H])C([H])=C([H])C1([H])[H].[H]Oc1c([H])c([H])c([H])c([H])c1[H]', 'selenzyme': {'P19734': 88.373, 'P19731': 88.373, 'P31020': 88.173, 'P19733': 88.073, 'P19729': 88.073, 'P19730': 88.073, 'P19732': 88.073, 'Q01551': 86.373, 'Q7WTJ2': 86.373, 'Q7WTJ6': 86.373, 'P15245': 78.373, 'Q0VH44': 76.24, 'P23262': 75.54, 'Q53552': 75.24, 'O85675': 74.632, 'O85674': 74.632, 'O85673': 74.632, 'Q9ZI64': 74.24, 'C3UVB9': 73.397, 'C3UVB8': 73.397, 'C3UVB6': 73.397, 'Q51603': 71.956, 'Q51601': 71.956, 'Q51602': 71.956, 'Q84BZ0': 71.632, 'Q84BZ1': 71.632, 'Q84BZ3': 71.632, 'Q84BZ2': 71.632, 'Q8RTL4': 63.141, 'Q8RTL3': 63.141, 'P07772': 62.934, 'Q8RTL5': 62.841, 'P23102': 61.934, 'P08088': 61.887, 'Q0KAB0': 59.934, 'Q6DF30': 39.933, 'Q6DKE0': 39.933, 'Q9TV70': 38.033, 'Q9TV69': 38.033, 'Q9TV68': 37.033, 'Q642M9': 36.933, 'Q148L6': 35.933, 'P52895': 34.033, 'Q04828': 34.033, 'P17516': 34.033, 'Q9TQS6': 34.033, 'Q9DBB8': 33.933, 'Q5R7C9': 33.933, 'Q5R5J5': 33.933, 'Q7JK39': 33.033}, 'rule_id': 'RR-02-0a885fdec2a1ff5f-16-F', 'rule_mnxr': 'MNXR113428', 'fba_obj_R4E13957D': {'units': 'mmol_per_gDW_per_hr', 'value': 0.0}, 'fba_rpFBA_obj': {'units': 'mmol_per_gDW_per_hr', 'value': 0.0}}}\n",
      "DEBUG:rpGraph:node_name: RP3\n",
      "DEBUG:rpGraph:node: {'type': 'reaction', 'miriam': {'ec-code': ['4.1.1.61']}, 'brsynth': {'dfG_prime_m': {'units': 'kj_per_mol', 'value': -1375.1470983017407}, 'dfG_uncert': {'units': 'kj_per_mol', 'value': 0.0}, 'dfG_prime_o': {'units': 'kj_per_mol', 'value': -1375.1470983017407}, 'path_id': {'value': 7}, 'step_id': {'value': 3}, 'sub_step_id': {'value': 1}, 'rule_score': {'value': 0.7023718970192103}, 'smiles': '[H]Oc1c([H])c([H])c([H])c([H])c1[H]>>[H]OC(=O)c1c([H])c([H])c(O[H])c([H])c1[H]', 'selenzyme': {}, 'rule_id': 'RR-02-d3b162f199b260fc-16-F', 'rule_mnxr': 'MNXR106877', 'fba_obj_R4E13957D': {'units': 'mmol_per_gDW_per_hr', 'value': 0.0}, 'fba_rpFBA_obj': {'units': 'mmol_per_gDW_per_hr', 'value': 0.0}}}\n",
      "DEBUG:rpGraph:Testing TARGET_0000000001__64__MNXC3\n",
      "DEBUG:rpGraph:-------- TARGET_0000000001__64__MNXC3 --> [] ----------\n",
      "DEBUG:rpGraph:['RP1']\n",
      "DEBUG:rpGraph:-------- RP1 --> ['RP1'] ----------\n",
      "DEBUG:rpGraph:['CMPD_0000000003__64__MNXC3', 'MNXM4__64__MNXC3']\n",
      "DEBUG:rpGraph:-------- CMPD_0000000003__64__MNXC3 --> ['RP1'] ----------\n",
      "DEBUG:rpGraph:['RP2']\n",
      "DEBUG:rpGraph:-------- RP2 --> ['RP1', 'RP2'] ----------\n",
      "DEBUG:rpGraph:['CMPD_0000000009__64__MNXC3', 'MNXM10__64__MNXC3', 'MNXM4__64__MNXC3', 'MNXM1__64__MNXC3']\n",
      "DEBUG:rpGraph:-------- CMPD_0000000009__64__MNXC3 --> ['RP1', 'RP2'] ----------\n",
      "DEBUG:rpGraph:['RP3']\n",
      "DEBUG:rpGraph:-------- RP3 --> ['RP1', 'RP2', 'RP3'] ----------\n",
      "DEBUG:rpGraph:['MNXM164__64__MNXC3', 'MNXM1__64__MNXC3']\n",
      "DEBUG:rpGraph:-------- MNXM164__64__MNXC3 --> ['RP1', 'RP2', 'RP3'] ----------\n",
      "DEBUG:rpGraph:[]\n",
      "DEBUG:rpGraph:-------- MNXM10__64__MNXC3 --> ['RP1', 'RP2', 'RP3'] ----------\n",
      "DEBUG:rpGraph:[]\n",
      "DEBUG:rpGraph:-------- MNXM4__64__MNXC3 --> ['RP1', 'RP2', 'RP3'] ----------\n",
      "DEBUG:rpGraph:[]\n",
      "DEBUG:rpGraph:-------- MNXM4__64__MNXC3 --> ['RP1', 'RP2', 'RP3'] ----------\n",
      "DEBUG:rpGraph:[]\n",
      "DEBUG:rpGraph:['RP3', 'RP2', 'RP1']\n",
      "DEBUG:rpGraph:------------------------------------------\n",
      "DEBUG:rpGraph:[{'reactants_inchi': ['InChI=1S/C7H6O3/c8-6-3-1-5(2-4-6)7(9)10/h1-4,8H,(H,9,10)'], 'products_inchi': ['InChI=1S/C6H6O/c7-6-4-2-1-3-5-6/h1-5,7H'], 'cofactor_reactants': ['H(+)'], 'cofactor_products': ['CO2']}, {'reactants_inchi': ['InChI=1S/C6H6O/c7-6-4-2-1-3-5-6/h1-5,7H'], 'products_inchi': ['InChI=1S/C6H6O2/c7-5-3-1-2-4-6(5)8/h1-4,7-8H'], 'cofactor_reactants': ['NADH', 'O2', 'H(+)'], 'cofactor_products': ['H2O', 'NAD+']}, {'reactants_inchi': ['InChI=1S/C6H6O2/c7-5-3-1-2-4-6(5)8/h1-4,7-8H'], 'products_inchi': ['InChI=1S/C6H6O4/c7-5(8)3-1-2-4-6(9)10/h1-4H,(H,7,8)(H,9,10)'], 'cofactor_reactants': ['O2'], 'cofactor_products': ['H(+)']}]\n",
      "DEBUG:rpGraph:------------------------------------------\n",
      "DEBUG:rpGraph:________ _drawPathway ________\n",
      "DEBUG:rpGraph:count: 0\n",
      "DEBUG:rpGraph:This is the first one: 0\n",
      "DEBUG:rpGraph:prev_inchi: ['InChI=1S/C6H6O/c7-6-4-2-1-3-5-6/h1-5,7H']\n",
      "DEBUG:rpGraph:react_inchi: ['InChI=1S/C7H6O3/c8-6-3-1-5(2-4-6)7(9)10/h1-4,8H,(H,9,10)']\n",
      "DEBUG:rpGraph:react_arrow: [True]\n",
      "DEBUG:rpGraph:pro_inchi: ['InChI=1S/C7H6O3/c8-6-3-1-5(2-4-6)7(9)10/h1-4,8H,(H,9,10)']\n",
      "DEBUG:rpGraph:pro_arrow: [True]\n",
      "DEBUG:rpGraph:========= _drawReaction =========\n",
      "DEBUG:rpGraph:---- _drawPartReaction ----\n",
      "DEBUG:rpGraph:x_len: 230\n",
      "DEBUG:rpGraph:y_len: 200\n",
      "DEBUG:rpGraph:############ _drawReactionArrows ##########\n",
      "DEBUG:rpGraph:x_len: 30\n",
      "DEBUG:rpGraph:y_len: 200\n",
      "DEBUG:rpGraph:rectangle: 0,0\n",
      "DEBUG:rpGraph:rectangle: 230,200\n",
      "DEBUG:rpGraph:x_species: 0\n",
      "DEBUG:rpGraph:x_reaction: 30\n",
      "DEBUG:rpGraph:y_reaction: 100.0\n",
      "DEBUG:rpGraph:y_spe: 100.0\n",
      "DEBUG:rpGraph:Move line x: 200\n",
      "DEBUG:rpGraph:Move line y: 200\n",
      "DEBUG:rpGraph:---- _drawPartReaction ----\n",
      "DEBUG:rpGraph:x_len: 230\n",
      "DEBUG:rpGraph:y_len: 200\n",
      "DEBUG:rpGraph:############ _drawReactionArrows ##########\n",
      "DEBUG:rpGraph:x_len: 30\n"
     ]
    },
    {
     "name": "stderr",
     "output_type": "stream",
     "text": [
      "DEBUG:rpGraph:y_len: 200\n",
      "DEBUG:rpGraph:rectangle: 0,0\n",
      "DEBUG:rpGraph:rectangle: 230,200\n",
      "DEBUG:rpGraph:x_species: 30\n",
      "DEBUG:rpGraph:x_reaction: 0\n",
      "DEBUG:rpGraph:y_reaction: 100.0\n",
      "DEBUG:rpGraph:y_spe: 100.0\n",
      "DEBUG:rpGraph:Move line y: 200\n",
      "DEBUG:rpGraph:x_len_left: 230\n",
      "DEBUG:rpGraph:y_len_left: 200\n",
      "DEBUG:rpGraph:x_len_right: 230\n",
      "DEBUG:rpGraph:y_len_right: 200\n",
      "DEBUG:rpGraph:x_len: 510\n",
      "DEBUG:rpGraph:y_len: 200\n",
      "DEBUG:rpGraph:start_line_x: 25.0\n",
      "DEBUG:rpGraph:start_line_y: 60.0\n",
      "DEBUG:rpGraph:end_line_x: 25.0\n",
      "DEBUG:rpGraph:end_line_y: 140.0\n",
      "DEBUG:rpGraph:react_x1: 0\n",
      "DEBUG:rpGraph:react_y1: 120.0\n",
      "DEBUG:rpGraph:react_width: 50\n",
      "DEBUG:rpGraph:react_height: 20\n",
      "DEBUG:rpGraph:x: 25.0\n",
      "DEBUG:rpGraph:y: 45.0\n",
      "DEBUG:rpGraph:x: 25.0\n",
      "DEBUG:rpGraph:y: 145.0\n",
      "DEBUG:rpGraph:count: 1\n",
      "DEBUG:rpGraph:This is a middle one: 1 - 2\n",
      "DEBUG:rpGraph:prev_inchi: ['InChI=1S/C6H6O2/c7-5-3-1-2-4-6(5)8/h1-4,7-8H']\n",
      "DEBUG:rpGraph:react_inchi: ['InChI=1S/C6H6O/c7-6-4-2-1-3-5-6/h1-5,7H']\n",
      "DEBUG:rpGraph:react_arrow: [True]\n",
      "DEBUG:rpGraph:pro_inchi: ['InChI=1S/C6H6O/c7-6-4-2-1-3-5-6/h1-5,7H']\n",
      "DEBUG:rpGraph:pro_arrow: [True]\n",
      "DEBUG:rpGraph:========= _drawReaction =========\n",
      "DEBUG:rpGraph:---- _drawPartReaction ----\n",
      "DEBUG:rpGraph:x_len: 30\n",
      "DEBUG:rpGraph:y_len: 200\n",
      "DEBUG:rpGraph:############ _drawReactionArrows ##########\n",
      "DEBUG:rpGraph:x_len: 30\n",
      "DEBUG:rpGraph:y_len: 200\n",
      "DEBUG:rpGraph:rectangle: 0,0\n",
      "DEBUG:rpGraph:rectangle: 230,200\n",
      "DEBUG:rpGraph:x_species: 0\n",
      "DEBUG:rpGraph:x_reaction: 30\n",
      "DEBUG:rpGraph:y_reaction: 100.0\n",
      "DEBUG:rpGraph:y_spe: 100.0\n",
      "DEBUG:rpGraph:Move line x: 200\n",
      "DEBUG:rpGraph:Move line y: 200\n",
      "DEBUG:rpGraph:---- _drawPartReaction ----\n",
      "DEBUG:rpGraph:x_len: 230\n",
      "DEBUG:rpGraph:y_len: 200\n",
      "DEBUG:rpGraph:############ _drawReactionArrows ##########\n",
      "DEBUG:rpGraph:x_len: 30\n",
      "DEBUG:rpGraph:y_len: 200\n",
      "DEBUG:rpGraph:rectangle: 0,0\n",
      "DEBUG:rpGraph:rectangle: 230,200\n",
      "DEBUG:rpGraph:x_species: 30\n",
      "DEBUG:rpGraph:x_reaction: 0\n",
      "DEBUG:rpGraph:y_reaction: 100.0\n",
      "DEBUG:rpGraph:y_spe: 100.0\n",
      "DEBUG:rpGraph:Move line y: 200\n",
      "DEBUG:rpGraph:x_len_left: 30\n",
      "DEBUG:rpGraph:y_len_left: 200\n",
      "DEBUG:rpGraph:x_len_right: 230\n",
      "DEBUG:rpGraph:y_len_right: 200\n",
      "DEBUG:rpGraph:x_len: 310\n",
      "DEBUG:rpGraph:y_len: 200\n",
      "DEBUG:rpGraph:start_line_x: 25.0\n",
      "DEBUG:rpGraph:start_line_y: 60.0\n",
      "DEBUG:rpGraph:end_line_x: 25.0\n",
      "DEBUG:rpGraph:end_line_y: 140.0\n",
      "DEBUG:rpGraph:react_x1: 0\n",
      "DEBUG:rpGraph:react_y1: 120.0\n",
      "DEBUG:rpGraph:react_width: 50\n",
      "DEBUG:rpGraph:react_height: 20\n",
      "DEBUG:rpGraph:x: 25.0\n",
      "DEBUG:rpGraph:y: 45.0\n",
      "DEBUG:rpGraph:x: 25.0\n",
      "DEBUG:rpGraph:y: 35.0\n",
      "DEBUG:rpGraph:x: 25.0\n",
      "DEBUG:rpGraph:y: 25.0\n",
      "DEBUG:rpGraph:x: 25.0\n",
      "DEBUG:rpGraph:y: 145.0\n",
      "DEBUG:rpGraph:x: 25.0\n",
      "DEBUG:rpGraph:y: 155.0\n",
      "DEBUG:rpGraph:count: 2\n",
      "DEBUG:rpGraph:This is the last one: 2 - 2\n",
      "DEBUG:rpGraph:prev_inchi: ['InChI=1S/C6H6O2/c7-5-3-1-2-4-6(5)8/h1-4,7-8H']\n",
      "DEBUG:rpGraph:react_inchi: ['InChI=1S/C6H6O2/c7-5-3-1-2-4-6(5)8/h1-4,7-8H']\n",
      "DEBUG:rpGraph:react_arrow: [True]\n",
      "DEBUG:rpGraph:pro_inchi: ['InChI=1S/C6H6O2/c7-5-3-1-2-4-6(5)8/h1-4,7-8H']\n",
      "DEBUG:rpGraph:pro_arrow: [True]\n",
      "DEBUG:rpGraph:========= _drawReaction =========\n",
      "DEBUG:rpGraph:---- _drawPartReaction ----\n",
      "DEBUG:rpGraph:x_len: 30\n",
      "DEBUG:rpGraph:y_len: 200\n",
      "DEBUG:rpGraph:############ _drawReactionArrows ##########\n",
      "DEBUG:rpGraph:x_len: 30\n",
      "DEBUG:rpGraph:y_len: 200\n",
      "DEBUG:rpGraph:rectangle: 0,0\n",
      "DEBUG:rpGraph:rectangle: 230,200\n",
      "DEBUG:rpGraph:x_species: 0\n",
      "DEBUG:rpGraph:x_reaction: 30\n",
      "DEBUG:rpGraph:y_reaction: 100.0\n",
      "DEBUG:rpGraph:y_spe: 100.0\n",
      "DEBUG:rpGraph:Move line x: 200\n",
      "DEBUG:rpGraph:Move line y: 200\n",
      "DEBUG:rpGraph:---- _drawPartReaction ----\n",
      "DEBUG:rpGraph:x_len: 230\n",
      "DEBUG:rpGraph:y_len: 200\n",
      "DEBUG:rpGraph:############ _drawReactionArrows ##########\n",
      "DEBUG:rpGraph:x_len: 30\n",
      "DEBUG:rpGraph:y_len: 200\n",
      "DEBUG:rpGraph:rectangle: 0,0\n",
      "DEBUG:rpGraph:rectangle: 230,200\n",
      "DEBUG:rpGraph:x_species: 30\n",
      "DEBUG:rpGraph:x_reaction: 0\n",
      "DEBUG:rpGraph:y_reaction: 100.0\n",
      "DEBUG:rpGraph:y_spe: 100.0\n",
      "DEBUG:rpGraph:Move line y: 200\n",
      "DEBUG:rpGraph:x_len_left: 30\n",
      "DEBUG:rpGraph:y_len_left: 200\n",
      "DEBUG:rpGraph:x_len_right: 230\n",
      "DEBUG:rpGraph:y_len_right: 200\n",
      "DEBUG:rpGraph:x_len: 310\n",
      "DEBUG:rpGraph:y_len: 200\n",
      "DEBUG:rpGraph:start_line_x: 25.0\n",
      "DEBUG:rpGraph:start_line_y: 60.0\n",
      "DEBUG:rpGraph:end_line_x: 25.0\n",
      "DEBUG:rpGraph:end_line_y: 140.0\n",
      "DEBUG:rpGraph:react_x1: 0\n",
      "DEBUG:rpGraph:react_y1: 120.0\n",
      "DEBUG:rpGraph:react_width: 50\n",
      "DEBUG:rpGraph:react_height: 20\n",
      "DEBUG:rpGraph:x: 25.0\n",
      "DEBUG:rpGraph:y: 45.0\n",
      "DEBUG:rpGraph:x: 25.0\n",
      "DEBUG:rpGraph:y: 145.0\n",
      "DEBUG:rpGraph:x_len: 1130\n",
      "DEBUG:rpGraph:y_len: 200\n",
      "DEBUG:rpGraph:cum_x_len: 0\n",
      "DEBUG:rpGraph:cum_x_len: 510\n",
      "DEBUG:rpGraph:cum_x_len: 820\n"
     ]
    }
   ],
   "source": [
    "a = rpgraph.drawsvg('test_final.svg',\n",
    "                    react_arrow_size=50,\n",
    "                    arrow_gap_size=30,\n",
    "                    subplot_size=[200,200],\n",
    "                    stroke_color='black',\n",
    "                    stroke_width=2)"
   ]
  },
  {
   "cell_type": "code",
   "execution_count": null,
   "metadata": {},
   "outputs": [],
   "source": []
  },
  {
   "cell_type": "code",
   "execution_count": null,
   "metadata": {},
   "outputs": [],
   "source": []
  },
  {
   "cell_type": "code",
   "execution_count": null,
   "metadata": {},
   "outputs": [],
   "source": []
  },
  {
   "cell_type": "code",
   "execution_count": null,
   "metadata": {},
   "outputs": [],
   "source": []
  },
  {
   "cell_type": "code",
   "execution_count": 4,
   "metadata": {},
   "outputs": [
    {
     "name": "stderr",
     "output_type": "stream",
     "text": [
      "DEBUG:rpGraph:========= _drawReaction =========\n",
      "DEBUG:rpGraph:---- _drawPartReaction ----\n",
      "DEBUG:rpGraph:x_len: 300\n",
      "DEBUG:rpGraph:y_len: 400\n",
      "DEBUG:rpGraph:############ _drawReactionArrows ##########\n",
      "DEBUG:rpGraph:x_len: 100\n",
      "DEBUG:rpGraph:y_len: 400\n",
      "DEBUG:rpGraph:rectangle: 0,0\n",
      "DEBUG:rpGraph:rectangle: 300,400\n",
      "DEBUG:rpGraph:x_species: 0\n",
      "DEBUG:rpGraph:x_reaction: 100\n",
      "DEBUG:rpGraph:y_reaction: 200.0\n",
      "DEBUG:rpGraph:y_spe: 300.0\n",
      "DEBUG:rpGraph:y_spe: 100.0\n",
      "DEBUG:rpGraph:Move line x: 200\n",
      "DEBUG:rpGraph:Move line y: 400\n",
      "DEBUG:rpGraph:---- _drawPartReaction ----\n",
      "DEBUG:rpGraph:x_len: 300\n",
      "DEBUG:rpGraph:y_len: 200\n",
      "DEBUG:rpGraph:############ _drawReactionArrows ##########\n",
      "DEBUG:rpGraph:x_len: 100\n",
      "DEBUG:rpGraph:y_len: 200\n",
      "DEBUG:rpGraph:rectangle: 0,0\n",
      "DEBUG:rpGraph:rectangle: 300,200\n",
      "DEBUG:rpGraph:x_species: 100\n",
      "DEBUG:rpGraph:x_reaction: 0\n",
      "DEBUG:rpGraph:y_reaction: 100.0\n",
      "DEBUG:rpGraph:y_spe: 100.0\n",
      "DEBUG:rpGraph:Move line y: 200\n",
      "DEBUG:rpGraph:x_len_left: 300\n",
      "DEBUG:rpGraph:y_len_left: 400\n",
      "DEBUG:rpGraph:x_len_right: 300\n",
      "DEBUG:rpGraph:y_len_right: 200\n",
      "DEBUG:rpGraph:x_len: 680\n",
      "DEBUG:rpGraph:y_len: 400\n",
      "DEBUG:rpGraph:start_line_x: 40.0\n",
      "DEBUG:rpGraph:start_line_y: 160.0\n",
      "DEBUG:rpGraph:end_line_x: 40.0\n",
      "DEBUG:rpGraph:end_line_y: 240.0\n",
      "DEBUG:rpGraph:react_x1: 0\n",
      "DEBUG:rpGraph:react_y1: 220.0\n",
      "DEBUG:rpGraph:react_width: 80\n",
      "DEBUG:rpGraph:react_height: 20\n"
     ]
    },
    {
     "data": {
      "text/plain": [
       "22032"
      ]
     },
     "execution_count": 4,
     "metadata": {},
     "output_type": "execute_result"
    }
   ],
   "source": [
    "a, len_x, len_y = rpgraph._drawReaction([inchi3, inchi1], [inchi2], draw_left_mol=True, react_arrow_size=80, arrow_gap_size=100, subplot_size=[200, 200])\n",
    "open('test_rpgraph.svg', 'w').write(a)"
   ]
  },
  {
   "cell_type": "code",
   "execution_count": 5,
   "metadata": {},
   "outputs": [
    {
     "name": "stderr",
     "output_type": "stream",
     "text": [
      "DEBUG:rpGraph:========= _drawReaction =========\n",
      "DEBUG:rpGraph:---- _drawPartReaction ----\n",
      "DEBUG:rpGraph:x_len: 250\n",
      "DEBUG:rpGraph:y_len: 400\n",
      "DEBUG:rpGraph:############ _drawReactionArrows ##########\n",
      "DEBUG:rpGraph:x_len: 50\n",
      "DEBUG:rpGraph:y_len: 400\n",
      "DEBUG:rpGraph:rectangle: 0,0\n",
      "DEBUG:rpGraph:rectangle: 250,400\n",
      "DEBUG:rpGraph:x_species: 0\n",
      "DEBUG:rpGraph:x_reaction: 50\n",
      "DEBUG:rpGraph:y_reaction: 200.0\n",
      "DEBUG:rpGraph:y_spe: 300.0\n",
      "DEBUG:rpGraph:Move line x: 200\n",
      "DEBUG:rpGraph:Move line y: 400\n",
      "DEBUG:rpGraph:---- _drawPartReaction ----\n",
      "DEBUG:rpGraph:x_len: 250\n",
      "DEBUG:rpGraph:y_len: 200\n",
      "DEBUG:rpGraph:############ _drawReactionArrows ##########\n",
      "DEBUG:rpGraph:x_len: 50\n",
      "DEBUG:rpGraph:y_len: 200\n",
      "DEBUG:rpGraph:rectangle: 0,0\n",
      "DEBUG:rpGraph:rectangle: 250,200\n",
      "DEBUG:rpGraph:x_species: 50\n",
      "DEBUG:rpGraph:x_reaction: 0\n",
      "DEBUG:rpGraph:y_reaction: 100.0\n",
      "DEBUG:rpGraph:y_spe: 100.0\n",
      "DEBUG:rpGraph:Move line y: 200\n",
      "DEBUG:rpGraph:x_len_left: 250\n",
      "DEBUG:rpGraph:y_len_left: 400\n",
      "DEBUG:rpGraph:x_len_right: 250\n",
      "DEBUG:rpGraph:y_len_right: 200\n",
      "DEBUG:rpGraph:x_len: 550\n",
      "DEBUG:rpGraph:y_len: 400\n",
      "DEBUG:rpGraph:start_line_x: 25.0\n",
      "DEBUG:rpGraph:start_line_y: 160.0\n",
      "DEBUG:rpGraph:end_line_x: 25.0\n",
      "DEBUG:rpGraph:end_line_y: 240.0\n",
      "DEBUG:rpGraph:react_x1: 0\n",
      "DEBUG:rpGraph:react_y1: 220.0\n",
      "DEBUG:rpGraph:react_width: 50\n",
      "DEBUG:rpGraph:react_height: 20\n",
      "DEBUG:rpGraph:x: 25.0\n",
      "DEBUG:rpGraph:y: 135.0\n",
      "DEBUG:rpGraph:x: 25.0\n",
      "DEBUG:rpGraph:y: 115.0\n",
      "DEBUG:rpGraph:x: 25.0\n",
      "DEBUG:rpGraph:y: 245.0\n"
     ]
    },
    {
     "data": {
      "text/plain": [
       "22482"
      ]
     },
     "execution_count": 5,
     "metadata": {},
     "output_type": "execute_result"
    }
   ],
   "source": [
    "a, len_x, len_y = rpgraph._drawReaction([inchi3, inchi1], [inchi2], react_arrow=[True, False], pro_arrow=[True], cofactor_reactants=['NADP', 'ATP'], cofactor_products=['ADP'], draw_left_mol=True, react_arrow_size=50, arrow_gap_size=50, subplot_size=[200, 200])\n",
    "open('test_cofactors.svg', 'w').write(a)"
   ]
  },
  {
   "cell_type": "code",
   "execution_count": 6,
   "metadata": {},
   "outputs": [],
   "source": [
    "pathway = [{'reactants_inchi': ['InChI=1S/C10H13N5O3/c11-9-8-10(13-3-12-9)15(4-14-8)7-1-5(17)6(2-16)18-7/h3-7,16-17H,1-2H2,(H2,11,12,13)/t5-,6+,7+/m0/s1'],\n",
    "            'products_inchi': ['InChI=1S/C6H6O2/c7-5-3-1-2-4-6(5)8/h1-4,7-8H', 'InChI=1S/C6H6O4/c7-5(8)3-1-2-4-6(9)10/h1-4H,(H,7,8)(H,9,10)/b3-1+,4-2+', 'InChI=1S/C3H6O/c1-3(2)4/h1-2H3'],\n",
    "            'cofactor_reactants': ['NADP', 'ATP'], \n",
    "            'cofactor_products': ['ADP']\n",
    "           },\n",
    "      \n",
    "           {'reactants_inchi': ['InChI=1S/C6H6O2/c7-5-3-1-2-4-6(5)8/h1-4,7-8H', 'InChI=1S/C3H6O/c1-3(2)4/h1-2H3'],\n",
    "            'products_inchi': ['InChI=1S/C3H6O/c1-3(2)4/h1-2H3'],\n",
    "            'cofactor_reactants': [], \n",
    "            'cofactor_products': []\n",
    "           },\n",
    "        \n",
    "           {'reactants_inchi': ['InChI=1S/C3H6O/c1-3(2)4/h1-2H3', 'InChI=1S/C3H5O.Zn/c1-3(2)4;/h1H2,2H3;/q-1;'],\n",
    "            'products_inchi': ['InChI=1S/C3H6O/c1-3(2)4/h1-2H3/i1+1,2+1', 'InChI=1S/C3H5O.Zn/c1-3(2)4;/h1H2,2H3;/q-1;'],\n",
    "            'cofactor_reactants': [], \n",
    "            'cofactor_products': []\n",
    "           }\n",
    "           \n",
    "          ]"
   ]
  },
  {
   "cell_type": "code",
   "execution_count": 7,
   "metadata": {},
   "outputs": [
    {
     "name": "stderr",
     "output_type": "stream",
     "text": [
      "DEBUG:rpGraph:________ _drawPathway ________\n",
      "DEBUG:rpGraph:count: 0\n",
      "DEBUG:rpGraph:react_inchi: ['InChI=1S/C10H13N5O3/c11-9-8-10(13-3-12-9)15(4-14-8)7-1-5(17)6(2-16)18-7/h3-7,16-17H,1-2H2,(H2,11,12,13)/t5-,6+,7+/m0/s1']\n",
      "DEBUG:rpGraph:react_arrow: [True]\n",
      "DEBUG:rpGraph:pro_inchi: ['InChI=1S/C10H13N5O3/c11-9-8-10(13-3-12-9)15(4-14-8)7-1-5(17)6(2-16)18-7/h3-7,16-17H,1-2H2,(H2,11,12,13)/t5-,6+,7+/m0/s1']\n",
      "DEBUG:rpGraph:pro_arrow: [True]\n",
      "DEBUG:rpGraph:========= _drawReaction =========\n",
      "DEBUG:rpGraph:---- _drawPartReaction ----\n",
      "DEBUG:rpGraph:x_len: 250\n",
      "DEBUG:rpGraph:y_len: 200\n",
      "DEBUG:rpGraph:############ _drawReactionArrows ##########\n",
      "DEBUG:rpGraph:x_len: 50\n",
      "DEBUG:rpGraph:y_len: 200\n",
      "DEBUG:rpGraph:rectangle: 0,0\n",
      "DEBUG:rpGraph:rectangle: 250,200\n",
      "DEBUG:rpGraph:x_species: 0\n",
      "DEBUG:rpGraph:x_reaction: 50\n",
      "DEBUG:rpGraph:y_reaction: 100.0\n",
      "DEBUG:rpGraph:y_spe: 100.0\n",
      "DEBUG:rpGraph:Move line x: 200\n",
      "DEBUG:rpGraph:Move line y: 200\n",
      "DEBUG:rpGraph:---- _drawPartReaction ----\n",
      "DEBUG:rpGraph:x_len: 250\n",
      "DEBUG:rpGraph:y_len: 600\n",
      "DEBUG:rpGraph:############ _drawReactionArrows ##########\n",
      "DEBUG:rpGraph:x_len: 50\n",
      "DEBUG:rpGraph:y_len: 600\n",
      "DEBUG:rpGraph:rectangle: 0,0\n",
      "DEBUG:rpGraph:rectangle: 250,600\n",
      "DEBUG:rpGraph:x_species: 50\n",
      "DEBUG:rpGraph:x_reaction: 0\n",
      "DEBUG:rpGraph:y_reaction: 300.0\n",
      "DEBUG:rpGraph:y_spe: 500.0\n",
      "DEBUG:rpGraph:y_spe: 300.0\n",
      "DEBUG:rpGraph:y_spe: 100.0\n",
      "DEBUG:rpGraph:Move line y: 600\n",
      "DEBUG:rpGraph:x_len_left: 250\n",
      "DEBUG:rpGraph:y_len_left: 200\n",
      "DEBUG:rpGraph:x_len_right: 250\n",
      "DEBUG:rpGraph:y_len_right: 600\n",
      "DEBUG:rpGraph:x_len: 530\n",
      "DEBUG:rpGraph:y_len: 600\n",
      "DEBUG:rpGraph:start_line_x: 15.0\n",
      "DEBUG:rpGraph:start_line_y: 260.0\n",
      "DEBUG:rpGraph:end_line_x: 15.0\n",
      "DEBUG:rpGraph:end_line_y: 340.0\n",
      "DEBUG:rpGraph:react_x1: 0\n",
      "DEBUG:rpGraph:react_y1: 320.0\n",
      "DEBUG:rpGraph:react_width: 30\n",
      "DEBUG:rpGraph:react_height: 20\n",
      "DEBUG:rpGraph:x: 15.0\n",
      "DEBUG:rpGraph:y: 235.0\n",
      "DEBUG:rpGraph:x: 15.0\n",
      "DEBUG:rpGraph:y: 215.0\n",
      "DEBUG:rpGraph:x: 15.0\n",
      "DEBUG:rpGraph:y: 345.0\n",
      "DEBUG:rpGraph:count: 1\n",
      "DEBUG:rpGraph:react_inchi: ['InChI=1S/C6H6O2/c7-5-3-1-2-4-6(5)8/h1-4,7-8H', 'InChI=1S/C6H6O4/c7-5(8)3-1-2-4-6(9)10/h1-4H,(H,7,8)(H,9,10)/b3-1+,4-2+', 'InChI=1S/C3H6O/c1-3(2)4/h1-2H3']\n",
      "DEBUG:rpGraph:react_arrow: [True, False, True]\n",
      "DEBUG:rpGraph:pro_inchi: ['InChI=1S/C6H6O2/c7-5-3-1-2-4-6(5)8/h1-4,7-8H', 'InChI=1S/C6H6O4/c7-5(8)3-1-2-4-6(9)10/h1-4H,(H,7,8)(H,9,10)/b3-1+,4-2+', 'InChI=1S/C3H6O/c1-3(2)4/h1-2H3']\n",
      "DEBUG:rpGraph:pro_arrow: [True, False, True]\n",
      "DEBUG:rpGraph:========= _drawReaction =========\n",
      "DEBUG:rpGraph:---- _drawPartReaction ----\n",
      "DEBUG:rpGraph:x_len: 50\n",
      "DEBUG:rpGraph:y_len: 600\n",
      "DEBUG:rpGraph:############ _drawReactionArrows ##########\n",
      "DEBUG:rpGraph:x_len: 50\n",
      "DEBUG:rpGraph:y_len: 600\n",
      "DEBUG:rpGraph:rectangle: 0,0\n",
      "DEBUG:rpGraph:rectangle: 250,600\n",
      "DEBUG:rpGraph:x_species: 0\n",
      "DEBUG:rpGraph:x_reaction: 50\n",
      "DEBUG:rpGraph:y_reaction: 300.0\n",
      "DEBUG:rpGraph:y_spe: 500.0\n",
      "DEBUG:rpGraph:y_spe: 100.0\n",
      "DEBUG:rpGraph:Move line x: 200\n",
      "DEBUG:rpGraph:Move line y: 600\n",
      "DEBUG:rpGraph:---- _drawPartReaction ----\n",
      "DEBUG:rpGraph:x_len: 250\n",
      "DEBUG:rpGraph:y_len: 600\n",
      "DEBUG:rpGraph:############ _drawReactionArrows ##########\n",
      "DEBUG:rpGraph:x_len: 50\n",
      "DEBUG:rpGraph:y_len: 600\n",
      "DEBUG:rpGraph:rectangle: 0,0\n",
      "DEBUG:rpGraph:rectangle: 250,600\n",
      "DEBUG:rpGraph:x_species: 50\n",
      "DEBUG:rpGraph:x_reaction: 0\n",
      "DEBUG:rpGraph:y_reaction: 300.0\n",
      "DEBUG:rpGraph:y_spe: 300.0\n",
      "DEBUG:rpGraph:Move line y: 600\n",
      "DEBUG:rpGraph:x_len_left: 50\n",
      "DEBUG:rpGraph:y_len_left: 600\n",
      "DEBUG:rpGraph:x_len_right: 250\n",
      "DEBUG:rpGraph:y_len_right: 600\n",
      "DEBUG:rpGraph:x_len: 330\n",
      "DEBUG:rpGraph:y_len: 600\n",
      "DEBUG:rpGraph:start_line_x: 15.0\n",
      "DEBUG:rpGraph:start_line_y: 260.0\n",
      "DEBUG:rpGraph:end_line_x: 15.0\n",
      "DEBUG:rpGraph:end_line_y: 340.0\n",
      "DEBUG:rpGraph:react_x1: 0\n",
      "DEBUG:rpGraph:react_y1: 320.0\n",
      "DEBUG:rpGraph:react_width: 30\n",
      "DEBUG:rpGraph:react_height: 20\n",
      "DEBUG:rpGraph:count: 2\n",
      "DEBUG:rpGraph:react_inchi: ['InChI=1S/C3H5O.Zn/c1-3(2)4;/h1H2,2H3;/q-1;', 'InChI=1S/C3H6O/c1-3(2)4/h1-2H3', 'InChI=1S/C3H6O/c1-3(2)4/h1-2H3/i1+1,2+1']\n",
      "DEBUG:rpGraph:react_arrow: [True, True, False]\n",
      "DEBUG:rpGraph:pro_inchi: ['InChI=1S/C3H5O.Zn/c1-3(2)4;/h1H2,2H3;/q-1;', 'InChI=1S/C3H6O/c1-3(2)4/h1-2H3', 'InChI=1S/C3H6O/c1-3(2)4/h1-2H3/i1+1,2+1']\n",
      "DEBUG:rpGraph:pro_arrow: [True, True, False]\n",
      "DEBUG:rpGraph:========= _drawReaction =========\n",
      "DEBUG:rpGraph:---- _drawPartReaction ----\n",
      "DEBUG:rpGraph:x_len: 50\n",
      "DEBUG:rpGraph:y_len: 600\n",
      "DEBUG:rpGraph:############ _drawReactionArrows ##########\n",
      "DEBUG:rpGraph:x_len: 50\n",
      "DEBUG:rpGraph:y_len: 600\n",
      "DEBUG:rpGraph:rectangle: 0,0\n",
      "DEBUG:rpGraph:rectangle: 250,600\n",
      "DEBUG:rpGraph:x_species: 0\n",
      "DEBUG:rpGraph:x_reaction: 50\n",
      "DEBUG:rpGraph:y_reaction: 300.0\n",
      "DEBUG:rpGraph:y_spe: 500.0\n",
      "DEBUG:rpGraph:y_spe: 300.0\n",
      "DEBUG:rpGraph:Move line x: 200\n",
      "DEBUG:rpGraph:Move line y: 600\n",
      "DEBUG:rpGraph:---- _drawPartReaction ----\n",
      "DEBUG:rpGraph:x_len: 250\n",
      "DEBUG:rpGraph:y_len: 400\n",
      "DEBUG:rpGraph:############ _drawReactionArrows ##########\n",
      "DEBUG:rpGraph:x_len: 50\n",
      "DEBUG:rpGraph:y_len: 400\n",
      "DEBUG:rpGraph:rectangle: 0,0\n",
      "DEBUG:rpGraph:rectangle: 250,400\n",
      "DEBUG:rpGraph:x_species: 50\n",
      "DEBUG:rpGraph:x_reaction: 0\n",
      "DEBUG:rpGraph:y_reaction: 200.0\n",
      "DEBUG:rpGraph:y_spe: 300.0\n",
      "DEBUG:rpGraph:y_spe: 100.0\n",
      "DEBUG:rpGraph:Move line y: 400\n",
      "DEBUG:rpGraph:x_len_left: 50\n",
      "DEBUG:rpGraph:y_len_left: 600\n",
      "DEBUG:rpGraph:x_len_right: 250\n",
      "DEBUG:rpGraph:y_len_right: 400\n",
      "DEBUG:rpGraph:x_len: 330\n",
      "DEBUG:rpGraph:y_len: 600\n",
      "DEBUG:rpGraph:start_line_x: 15.0\n",
      "DEBUG:rpGraph:start_line_y: 260.0\n",
      "DEBUG:rpGraph:end_line_x: 15.0\n",
      "DEBUG:rpGraph:end_line_y: 340.0\n",
      "DEBUG:rpGraph:react_x1: 0\n",
      "DEBUG:rpGraph:react_y1: 320.0\n",
      "DEBUG:rpGraph:react_width: 30\n",
      "DEBUG:rpGraph:react_height: 20\n",
      "DEBUG:rpGraph:x_len: 1190\n",
      "DEBUG:rpGraph:y_len: 600\n",
      "DEBUG:rpGraph:cum_x_len: 0\n",
      "DEBUG:rpGraph:cum_x_len: 530\n",
      "DEBUG:rpGraph:cum_x_len: 860\n"
     ]
    },
    {
     "data": {
      "text/plain": [
       "36577"
      ]
     },
     "execution_count": 7,
     "metadata": {},
     "output_type": "execute_result"
    }
   ],
   "source": [
    "b, len_x, len_y = rpgraph._drawPathway(pathway, arrow_gap_size=50, react_arrow_size=30)\n",
    "open('test_pathway.svg', 'w').write(b)"
   ]
  },
  {
   "cell_type": "code",
   "execution_count": null,
   "metadata": {},
   "outputs": [],
   "source": []
  },
  {
   "cell_type": "code",
   "execution_count": null,
   "metadata": {},
   "outputs": [],
   "source": []
  },
  {
   "cell_type": "code",
   "execution_count": null,
   "metadata": {},
   "outputs": [],
   "source": []
  },
  {
   "cell_type": "code",
   "execution_count": null,
   "metadata": {},
   "outputs": [],
   "source": []
  },
  {
   "cell_type": "code",
   "execution_count": 11,
   "metadata": {},
   "outputs": [
    {
     "data": {
      "text/plain": [
       "17193"
      ]
     },
     "execution_count": 11,
     "metadata": {},
     "output_type": "execute_result"
    }
   ],
   "source": [
    "open('test_final.svg', 'w').write(a)"
   ]
  },
  {
   "cell_type": "code",
   "execution_count": 10,
   "metadata": {},
   "outputs": [
    {
     "data": {
      "text/plain": [
       "'<?xml version=\\'1.0\\' encoding=\\'ASCII\\' standalone=\\'yes\\'?>\\n<svg xmlns:xlink=\"http://www.w3.org/1999/xlink\" xmlns=\"http://www.w3.org/2000/svg\" version=\"1.1\" width=\"1200\" viewBox=\"0 0 1200 400\" height=\"400\">\\n  <g transform=\"translate(0, 0.0) scale(1) \"><g transform=\"translate(0, 100.0) scale(1) \"><g transform=\"translate(0, 0) scale(1) \"><!-- END OF HEADER -->\\n<rect style=\"opacity:1.0;fill:#FFFFFF;stroke:none\" width=\"200\" height=\"200\" x=\"0\" y=\"0\"> </rect>\\n<path class=\"bond-0\" d=\"M 60.3649,121.723 60.3649,91.2118\" style=\"fill:none;fill-rule:evenodd;stroke:#000000;stroke-width:2px;stroke-linecap:butt;stroke-linejoin:miter;stroke-opacity:1\"/>\\n<path class=\"bond-0\" d=\"M 66.4671,117.146 66.4671,95.7885\" style=\"fill:none;fill-rule:evenodd;stroke:#000000;stroke-width:2px;stroke-linecap:butt;stroke-linejoin:miter;stroke-opacity:1\"/>\\n<path class=\"bond-1\" d=\"M 60.3649,121.723 86.7883,136.979\" style=\"fill:none;fill-rule:evenodd;stroke:#000000;stroke-width:2px;stroke-linecap:butt;stroke-linejoin:miter;stroke-opacity:1\"/>\\n<path class=\"bond-2\" d=\"M 60.3649,91.2118 86.7883,75.9562\" style=\"fill:none;fill-rule:evenodd;stroke:#000000;stroke-width:2px;stroke-linecap:butt;stroke-linejoin:miter;stroke-opacity:1\"/>\\n<path class=\"bond-3\" d=\"M 86.7883,136.979 113.212,121.723\" style=\"fill:none;fill-rule:evenodd;stroke:#000000;stroke-width:2px;stroke-linecap:butt;stroke-linejoin:miter;stroke-opacity:1\"/>\\n<path class=\"bond-3\" d=\"M 87.7007,129.405 106.197,118.727\" style=\"fill:none;fill-rule:evenodd;stroke:#000000;stroke-width:2px;stroke-linecap:butt;stroke-linejoin:miter;stroke-opacity:1\"/>\\n<path class=\"bond-4\" d=\"M 86.7883,75.9562 113.212,91.2118\" style=\"fill:none;fill-rule:evenodd;stroke:#000000;stroke-width:2px;stroke-linecap:butt;stroke-linejoin:miter;stroke-opacity:1\"/>\\n<path class=\"bond-4\" d=\"M 87.7007,83.5292 106.197,94.2081\" style=\"fill:none;fill-rule:evenodd;stroke:#000000;stroke-width:2px;stroke-linecap:butt;stroke-linejoin:miter;stroke-opacity:1\"/>\\n<path class=\"bond-5\" d=\"M 113.212,121.723 113.212,91.2118\" style=\"fill:none;fill-rule:evenodd;stroke:#000000;stroke-width:2px;stroke-linecap:butt;stroke-linejoin:miter;stroke-opacity:1\"/>\\n<path class=\"bond-6\" d=\"M 113.212,121.723 122.02,126.808\" style=\"fill:none;fill-rule:evenodd;stroke:#000000;stroke-width:2px;stroke-linecap:butt;stroke-linejoin:miter;stroke-opacity:1\"/>\\n<path class=\"bond-6\" d=\"M 122.02,126.808 130.827,131.893\" style=\"fill:none;fill-rule:evenodd;stroke:#FF0000;stroke-width:2px;stroke-linecap:butt;stroke-linejoin:miter;stroke-opacity:1\"/>\\n<path class=\"bond-7\" d=\"M 113.212,91.2118 122.02,86.1266\" style=\"fill:none;fill-rule:evenodd;stroke:#000000;stroke-width:2px;stroke-linecap:butt;stroke-linejoin:miter;stroke-opacity:1\"/>\\n<path class=\"bond-7\" d=\"M 122.02,86.1266 130.827,81.0414\" style=\"fill:none;fill-rule:evenodd;stroke:#FF0000;stroke-width:2px;stroke-linecap:butt;stroke-linejoin:miter;stroke-opacity:1\"/>\\n<text x=\"130.478\" y=\"142.064\" style=\"font-size:10px;font-style:normal;font-weight:normal;fill-opacity:1;stroke:none;font-family:sans-serif;text-anchor:start;fill:#FF0000\"><tspan>OH</tspan></text>\\n<text x=\"130.478\" y=\"81.0414\" style=\"font-size:10px;font-style:normal;font-weight:normal;fill-opacity:1;stroke:none;font-family:sans-serif;text-anchor:start;fill:#FF0000\"><tspan>OH</tspan></text>\\n</g>\\n  <g transform=\"translate(200, 200) scale(1) \"><defs>\\n<marker markerWidth=\"4.0\" markerHeight=\"4.0\" viewBox=\"-0.1 -0.5 1.0 1.0\" orient=\"0\" id=\"flat_arrow\">\\n<path d=\"M-0.1,0.5 L-0.1,-0.5 L0.9,0 Z\" fill=\"black\"/>\\n</marker>\\n</defs>\\n<rect x=\"0\" y=\"-200\" width=\"300\" height=\"200\" fill=\"#FFFFFF\"/>\\n<path d=\"M0,-100.0 C100,-100.0,0,-100.0,93.0,-100.0\" stroke=\"black\" stroke-width=\"2\" fill=\"transparent\" marker-end=\"url(#flat_arrow)\"/>\\n</g>\\n</g>\\n  <g transform=\"translate(400, 0.0) scale(1) \"><g transform=\"translate(0, 400) scale(1) \"><defs>\\n<marker markerWidth=\"4.0\" markerHeight=\"4.0\" viewBox=\"-0.1 -0.5 1.0 1.0\" orient=\"0\" id=\"rev_flat_arrow\">\\n<path d=\"M-0.1,0.5 L-0.1,-0.5 L0.9,0 Z\" fill=\"black\"/>\\n</marker>\\n</defs>\\n<rect x=\"0\" y=\"-400\" width=\"300\" height=\"400\" fill=\"#FFFFFF\"/>\\n<path d=\"M93.0,-100.0 C0,-100.0,100,-200.0,0,-200.0\" stroke=\"black\" stroke-width=\"2\" fill=\"transparent\" marker-start=\"url(#rev_flat_arrow)\"/>\\n</g>\\n  <g transform=\"translate(100, 0) scale(1) \"><!-- END OF HEADER -->\\n<rect style=\"opacity:1.0;fill:#FFFFFF;stroke:none\" width=\"200\" height=\"200\" x=\"0\" y=\"0\"> </rect>\\n<path class=\"bond-0\" d=\"M 60.3649,121.723 60.3649,91.2118\" style=\"fill:none;fill-rule:evenodd;stroke:#000000;stroke-width:2px;stroke-linecap:butt;stroke-linejoin:miter;stroke-opacity:1\"/>\\n<path class=\"bond-0\" d=\"M 66.4671,117.146 66.4671,95.7885\" style=\"fill:none;fill-rule:evenodd;stroke:#000000;stroke-width:2px;stroke-linecap:butt;stroke-linejoin:miter;stroke-opacity:1\"/>\\n<path class=\"bond-1\" d=\"M 60.3649,121.723 86.7883,136.979\" style=\"fill:none;fill-rule:evenodd;stroke:#000000;stroke-width:2px;stroke-linecap:butt;stroke-linejoin:miter;stroke-opacity:1\"/>\\n<path class=\"bond-2\" d=\"M 60.3649,91.2118 86.7883,75.9562\" style=\"fill:none;fill-rule:evenodd;stroke:#000000;stroke-width:2px;stroke-linecap:butt;stroke-linejoin:miter;stroke-opacity:1\"/>\\n<path class=\"bond-3\" d=\"M 86.7883,136.979 113.212,121.723\" style=\"fill:none;fill-rule:evenodd;stroke:#000000;stroke-width:2px;stroke-linecap:butt;stroke-linejoin:miter;stroke-opacity:1\"/>\\n<path class=\"bond-3\" d=\"M 87.7007,129.405 106.197,118.727\" style=\"fill:none;fill-rule:evenodd;stroke:#000000;stroke-width:2px;stroke-linecap:butt;stroke-linejoin:miter;stroke-opacity:1\"/>\\n<path class=\"bond-4\" d=\"M 86.7883,75.9562 113.212,91.2118\" style=\"fill:none;fill-rule:evenodd;stroke:#000000;stroke-width:2px;stroke-linecap:butt;stroke-linejoin:miter;stroke-opacity:1\"/>\\n<path class=\"bond-4\" d=\"M 87.7007,83.5292 106.197,94.2081\" style=\"fill:none;fill-rule:evenodd;stroke:#000000;stroke-width:2px;stroke-linecap:butt;stroke-linejoin:miter;stroke-opacity:1\"/>\\n<path class=\"bond-5\" d=\"M 113.212,121.723 113.212,91.2118\" style=\"fill:none;fill-rule:evenodd;stroke:#000000;stroke-width:2px;stroke-linecap:butt;stroke-linejoin:miter;stroke-opacity:1\"/>\\n<path class=\"bond-6\" d=\"M 113.212,121.723 122.02,126.808\" style=\"fill:none;fill-rule:evenodd;stroke:#000000;stroke-width:2px;stroke-linecap:butt;stroke-linejoin:miter;stroke-opacity:1\"/>\\n<path class=\"bond-6\" d=\"M 122.02,126.808 130.827,131.893\" style=\"fill:none;fill-rule:evenodd;stroke:#FF0000;stroke-width:2px;stroke-linecap:butt;stroke-linejoin:miter;stroke-opacity:1\"/>\\n<path class=\"bond-7\" d=\"M 113.212,91.2118 122.02,86.1266\" style=\"fill:none;fill-rule:evenodd;stroke:#000000;stroke-width:2px;stroke-linecap:butt;stroke-linejoin:miter;stroke-opacity:1\"/>\\n<path class=\"bond-7\" d=\"M 122.02,86.1266 130.827,81.0414\" style=\"fill:none;fill-rule:evenodd;stroke:#FF0000;stroke-width:2px;stroke-linecap:butt;stroke-linejoin:miter;stroke-opacity:1\"/>\\n<text x=\"130.478\" y=\"142.064\" style=\"font-size:10px;font-style:normal;font-weight:normal;fill-opacity:1;stroke:none;font-family:sans-serif;text-anchor:start;fill:#FF0000\"><tspan>OH</tspan></text>\\n<text x=\"130.478\" y=\"81.0414\" style=\"font-size:10px;font-style:normal;font-weight:normal;fill-opacity:1;stroke:none;font-family:sans-serif;text-anchor:start;fill:#FF0000\"><tspan>OH</tspan></text>\\n</g>\\n  <g transform=\"translate(100, 200) scale(1) \"><!-- END OF HEADER -->\\n<rect style=\"opacity:1.0;fill:#FFFFFF;stroke:none\" width=\"200\" height=\"200\" x=\"0\" y=\"0\"> </rect>\\n<path class=\"bond-0\" d=\"M 85.9719,112.463 114.028,100.472\" style=\"fill:none;fill-rule:evenodd;stroke:#000000;stroke-width:2px;stroke-linecap:butt;stroke-linejoin:miter;stroke-opacity:1\"/>\\n<path class=\"bond-1\" d=\"M 85.9719,112.463 61.5595,94.1605\" style=\"fill:none;fill-rule:evenodd;stroke:#000000;stroke-width:2px;stroke-linecap:butt;stroke-linejoin:miter;stroke-opacity:1\"/>\\n<path class=\"bond-1\" d=\"M 85.9704,104.835 68.8818,92.0234\" style=\"fill:none;fill-rule:evenodd;stroke:#000000;stroke-width:2px;stroke-linecap:butt;stroke-linejoin:miter;stroke-opacity:1\"/>\\n<path class=\"bond-2\" d=\"M 114.028,100.472 138.44,118.774\" style=\"fill:none;fill-rule:evenodd;stroke:#000000;stroke-width:2px;stroke-linecap:butt;stroke-linejoin:miter;stroke-opacity:1\"/>\\n<path class=\"bond-2\" d=\"M 114.03,108.1 131.118,120.911\" style=\"fill:none;fill-rule:evenodd;stroke:#000000;stroke-width:2px;stroke-linecap:butt;stroke-linejoin:miter;stroke-opacity:1\"/>\\n<path class=\"bond-3\" d=\"M 61.5595,94.1605 33.5032,106.151\" style=\"fill:none;fill-rule:evenodd;stroke:#000000;stroke-width:2px;stroke-linecap:butt;stroke-linejoin:miter;stroke-opacity:1\"/>\\n<path class=\"bond-4\" d=\"M 138.44,118.774 166.497,106.784\" style=\"fill:none;fill-rule:evenodd;stroke:#000000;stroke-width:2px;stroke-linecap:butt;stroke-linejoin:miter;stroke-opacity:1\"/>\\n<path class=\"bond-5\" d=\"M 33.5032,106.151 24.6885,99.5427\" style=\"fill:none;fill-rule:evenodd;stroke:#000000;stroke-width:2px;stroke-linecap:butt;stroke-linejoin:miter;stroke-opacity:1\"/>\\n<path class=\"bond-5\" d=\"M 24.6885,99.5427 15.8738,92.9342\" style=\"fill:none;fill-rule:evenodd;stroke:#FF0000;stroke-width:2px;stroke-linecap:butt;stroke-linejoin:miter;stroke-opacity:1\"/>\\n<path class=\"bond-6\" d=\"M 30.474,105.787 28.9578,118.391\" style=\"fill:none;fill-rule:evenodd;stroke:#000000;stroke-width:2px;stroke-linecap:butt;stroke-linejoin:miter;stroke-opacity:1\"/>\\n<path class=\"bond-6\" d=\"M 28.9578,118.391 27.4417,130.994\" style=\"fill:none;fill-rule:evenodd;stroke:#FF0000;stroke-width:2px;stroke-linecap:butt;stroke-linejoin:miter;stroke-opacity:1\"/>\\n<path class=\"bond-6\" d=\"M 36.5325,106.516 35.0164,119.119\" style=\"fill:none;fill-rule:evenodd;stroke:#000000;stroke-width:2px;stroke-linecap:butt;stroke-linejoin:miter;stroke-opacity:1\"/>\\n<path class=\"bond-6\" d=\"M 35.0164,119.119 33.5003,131.723\" style=\"fill:none;fill-rule:evenodd;stroke:#FF0000;stroke-width:2px;stroke-linecap:butt;stroke-linejoin:miter;stroke-opacity:1\"/>\\n<path class=\"bond-7\" d=\"M 166.497,106.784 175.311,113.392\" style=\"fill:none;fill-rule:evenodd;stroke:#000000;stroke-width:2px;stroke-linecap:butt;stroke-linejoin:miter;stroke-opacity:1\"/>\\n<path class=\"bond-7\" d=\"M 175.311,113.392 184.126,120.001\" style=\"fill:none;fill-rule:evenodd;stroke:#FF0000;stroke-width:2px;stroke-linecap:butt;stroke-linejoin:miter;stroke-opacity:1\"/>\\n<path class=\"bond-8\" d=\"M 169.526,107.148 171.042,94.5442\" style=\"fill:none;fill-rule:evenodd;stroke:#000000;stroke-width:2px;stroke-linecap:butt;stroke-linejoin:miter;stroke-opacity:1\"/>\\n<path class=\"bond-8\" d=\"M 171.042,94.5442 172.558,81.9404\" style=\"fill:none;fill-rule:evenodd;stroke:#FF0000;stroke-width:2px;stroke-linecap:butt;stroke-linejoin:miter;stroke-opacity:1\"/>\\n<path class=\"bond-8\" d=\"M 163.467,106.419 164.984,93.8154\" style=\"fill:none;fill-rule:evenodd;stroke:#000000;stroke-width:2px;stroke-linecap:butt;stroke-linejoin:miter;stroke-opacity:1\"/>\\n<path class=\"bond-8\" d=\"M 164.984,93.8154 166.5,81.2116\" style=\"fill:none;fill-rule:evenodd;stroke:#FF0000;stroke-width:2px;stroke-linecap:butt;stroke-linejoin:miter;stroke-opacity:1\"/>\\n<text x=\"-0.0660987\" y=\"92.9342\" style=\"font-size:10px;font-style:normal;font-weight:normal;fill-opacity:1;stroke:none;font-family:sans-serif;text-anchor:start;fill:#FF0000\"><tspan>HO</tspan></text>\\n<text x=\"25.1099\" y=\"141.529\" style=\"font-size:10px;font-style:normal;font-weight:normal;fill-opacity:1;stroke:none;font-family:sans-serif;text-anchor:start;fill:#FF0000\"><tspan>O</tspan></text>\\n<text x=\"181.752\" y=\"130.171\" style=\"font-size:10px;font-style:normal;font-weight:normal;fill-opacity:1;stroke:none;font-family:sans-serif;text-anchor:start;fill:#FF0000\"><tspan>OH</tspan></text>\\n<text x=\"165.391\" y=\"81.576\" style=\"font-size:10px;font-style:normal;font-weight:normal;fill-opacity:1;stroke:none;font-family:sans-serif;text-anchor:start;fill:#FF0000\"><tspan>O</tspan></text>\\n</g>\\n</g>\\n  <g transform=\"translate(300, 400) scale(1) \"><defs>\\n<marker markerWidth=\"4.0\" markerHeight=\"4.0\" viewBox=\"-0.1 -0.5 1.0 1.0\" orient=\"auto\" id=\"normal_arrow\">\\n<path d=\"M-0.1,0.5 L-0.1,-0.5 L0.9,0 Z\" fill=\"black\"/>\\n</marker>\\n</defs>\\n<rect x=\"0\" y=\"-400\" width=\"100\" height=\"400\" fill=\"#FFFFFF\"/>\\n<path d=\"M50.0,-160.0 Q36.666666666666664,-200.0,50.0,-233.0\" stroke=\"black\" stroke-width=\"2\" fill=\"transparent\" marker-end=\"url(#normal_arrow)\"/>\\n<rect x=\"0\" y=\"-210.0\" width=\"100\" height=\"20\" fill=\"#ddd\" stroke-width=\"2\" stroke=\"black\"/>\\n<text x=\"50.0\" y=\"-135.0\" font-size=\"20\" font-family=\"sans-serif\" fill=\"black\">O2</text>\\n</g>\\n</g>\\n  <g transform=\"translate(700, 0.0) scale(1) \"><g transform=\"translate(0, 0.0) scale(1) \"><g transform=\"translate(0, 400) scale(1) \"><defs>\\n</defs>\\n<rect x=\"0\" y=\"-400\" width=\"300\" height=\"400\" fill=\"#FFFFFF\"/>\\n</g>\\n</g>\\n  <g transform=\"translate(200, 100.0) scale(1) \"><g transform=\"translate(0, 200) scale(1) \"><defs>\\n<marker markerWidth=\"4.0\" markerHeight=\"4.0\" viewBox=\"-0.1 -0.5 1.0 1.0\" orient=\"0\" id=\"rev_flat_arrow\">\\n<path d=\"M-0.1,0.5 L-0.1,-0.5 L0.9,0 Z\" fill=\"black\"/>\\n</marker>\\n</defs>\\n<rect x=\"0\" y=\"-200\" width=\"300\" height=\"200\" fill=\"#FFFFFF\"/>\\n<path d=\"M93.0,-100.0 C0,-100.0,100,-100.0,0,-100.0\" stroke=\"black\" stroke-width=\"2\" fill=\"transparent\" marker-start=\"url(#rev_flat_arrow)\"/>\\n</g>\\n  <g transform=\"translate(100, 0) scale(1) \"><!-- END OF HEADER -->\\n<rect style=\"opacity:1.0;fill:#FFFFFF;stroke:none\" width=\"200\" height=\"200\" x=\"0\" y=\"0\"> </rect>\\n<path class=\"bond-0\" d=\"M 60.3649,121.723 60.3649,91.2118\" style=\"fill:none;fill-rule:evenodd;stroke:#000000;stroke-width:2px;stroke-linecap:butt;stroke-linejoin:miter;stroke-opacity:1\"/>\\n<path class=\"bond-0\" d=\"M 66.4671,117.146 66.4671,95.7885\" style=\"fill:none;fill-rule:evenodd;stroke:#000000;stroke-width:2px;stroke-linecap:butt;stroke-linejoin:miter;stroke-opacity:1\"/>\\n<path class=\"bond-1\" d=\"M 60.3649,121.723 86.7883,136.979\" style=\"fill:none;fill-rule:evenodd;stroke:#000000;stroke-width:2px;stroke-linecap:butt;stroke-linejoin:miter;stroke-opacity:1\"/>\\n<path class=\"bond-2\" d=\"M 60.3649,91.2118 86.7883,75.9562\" style=\"fill:none;fill-rule:evenodd;stroke:#000000;stroke-width:2px;stroke-linecap:butt;stroke-linejoin:miter;stroke-opacity:1\"/>\\n<path class=\"bond-3\" d=\"M 86.7883,136.979 113.212,121.723\" style=\"fill:none;fill-rule:evenodd;stroke:#000000;stroke-width:2px;stroke-linecap:butt;stroke-linejoin:miter;stroke-opacity:1\"/>\\n<path class=\"bond-3\" d=\"M 87.7007,129.405 106.197,118.727\" style=\"fill:none;fill-rule:evenodd;stroke:#000000;stroke-width:2px;stroke-linecap:butt;stroke-linejoin:miter;stroke-opacity:1\"/>\\n<path class=\"bond-4\" d=\"M 86.7883,75.9562 113.212,91.2118\" style=\"fill:none;fill-rule:evenodd;stroke:#000000;stroke-width:2px;stroke-linecap:butt;stroke-linejoin:miter;stroke-opacity:1\"/>\\n<path class=\"bond-4\" d=\"M 87.7007,83.5292 106.197,94.2081\" style=\"fill:none;fill-rule:evenodd;stroke:#000000;stroke-width:2px;stroke-linecap:butt;stroke-linejoin:miter;stroke-opacity:1\"/>\\n<path class=\"bond-5\" d=\"M 113.212,121.723 113.212,91.2118\" style=\"fill:none;fill-rule:evenodd;stroke:#000000;stroke-width:2px;stroke-linecap:butt;stroke-linejoin:miter;stroke-opacity:1\"/>\\n<path class=\"bond-6\" d=\"M 113.212,121.723 122.02,126.808\" style=\"fill:none;fill-rule:evenodd;stroke:#000000;stroke-width:2px;stroke-linecap:butt;stroke-linejoin:miter;stroke-opacity:1\"/>\\n<path class=\"bond-6\" d=\"M 122.02,126.808 130.827,131.893\" style=\"fill:none;fill-rule:evenodd;stroke:#FF0000;stroke-width:2px;stroke-linecap:butt;stroke-linejoin:miter;stroke-opacity:1\"/>\\n<path class=\"bond-7\" d=\"M 113.212,91.2118 122.02,86.1266\" style=\"fill:none;fill-rule:evenodd;stroke:#000000;stroke-width:2px;stroke-linecap:butt;stroke-linejoin:miter;stroke-opacity:1\"/>\\n<path class=\"bond-7\" d=\"M 122.02,86.1266 130.827,81.0414\" style=\"fill:none;fill-rule:evenodd;stroke:#FF0000;stroke-width:2px;stroke-linecap:butt;stroke-linejoin:miter;stroke-opacity:1\"/>\\n<text x=\"130.478\" y=\"142.064\" style=\"font-size:10px;font-style:normal;font-weight:normal;fill-opacity:1;stroke:none;font-family:sans-serif;text-anchor:start;fill:#FF0000\"><tspan>OH</tspan></text>\\n<text x=\"130.478\" y=\"81.0414\" style=\"font-size:10px;font-style:normal;font-weight:normal;fill-opacity:1;stroke:none;font-family:sans-serif;text-anchor:start;fill:#FF0000\"><tspan>OH</tspan></text>\\n</g>\\n</g>\\n  <g transform=\"translate(100, 400) scale(1) \"><defs>\\n<marker markerWidth=\"4.0\" markerHeight=\"4.0\" viewBox=\"-0.1 -0.5 1.0 1.0\" orient=\"auto\" id=\"normal_arrow\">\\n<path d=\"M-0.1,0.5 L-0.1,-0.5 L0.9,0 Z\" fill=\"black\"/>\\n</marker>\\n</defs>\\n<rect x=\"0\" y=\"-400\" width=\"100\" height=\"400\" fill=\"#FFFFFF\"/>\\n<path d=\"M50.0,-160.0 Q36.666666666666664,-200.0,50.0,-233.0\" stroke=\"black\" stroke-width=\"2\" fill=\"transparent\" marker-end=\"url(#normal_arrow)\"/>\\n<rect x=\"0\" y=\"-210.0\" width=\"100\" height=\"20\" fill=\"#ddd\" stroke-width=\"2\" stroke=\"black\"/>\\n<text x=\"50.0\" y=\"-135.0\" font-size=\"20\" font-family=\"sans-serif\" fill=\"black\">NADH</text>\\n<text x=\"50.0\" y=\"-115.0\" font-size=\"20\" font-family=\"sans-serif\" fill=\"black\">O2</text>\\n<text x=\"50.0\" y=\"-95.0\" font-size=\"20\" font-family=\"sans-serif\" fill=\"black\">H(+)</text>\\n<text x=\"50.0\" y=\"-245.0\" font-size=\"20\" font-family=\"sans-serif\" fill=\"black\">CO2</text>\\n<text x=\"50.0\" y=\"-265.0\" font-size=\"20\" font-family=\"sans-serif\" fill=\"black\">BC_32401</text>\\n<text x=\"50.0\" y=\"-285.0\" font-size=\"20\" font-family=\"sans-serif\" fill=\"black\">BC_32877</text>\\n</g>\\n</g>\\n</svg>\\n'"
      ]
     },
     "execution_count": 10,
     "metadata": {},
     "output_type": "execute_result"
    }
   ],
   "source": [
    "a"
   ]
  },
  {
   "cell_type": "code",
   "execution_count": null,
   "metadata": {},
   "outputs": [],
   "source": []
  },
  {
   "cell_type": "code",
   "execution_count": null,
   "metadata": {},
   "outputs": [],
   "source": []
  },
  {
   "cell_type": "code",
   "execution_count": null,
   "metadata": {},
   "outputs": [],
   "source": []
  },
  {
   "cell_type": "code",
   "execution_count": null,
   "metadata": {},
   "outputs": [],
   "source": []
  },
  {
   "cell_type": "code",
   "execution_count": null,
   "metadata": {},
   "outputs": [],
   "source": []
  },
  {
   "cell_type": "code",
   "execution_count": null,
   "metadata": {},
   "outputs": [],
   "source": []
  },
  {
   "cell_type": "code",
   "execution_count": null,
   "metadata": {},
   "outputs": [],
   "source": []
  },
  {
   "cell_type": "code",
   "execution_count": null,
   "metadata": {},
   "outputs": [],
   "source": [
    "rpgraph.orderedRetroReactions()"
   ]
  },
  {
   "cell_type": "code",
   "execution_count": 12,
   "metadata": {},
   "outputs": [
    {
     "data": {
      "text/plain": [
       "['TARGET_0000000001__64__MNXC3',\n",
       " 'RP2',\n",
       " 'CMPD_0000000003__64__MNXC3',\n",
       " 'MNXM4__64__MNXC3',\n",
       " 'BC_20662__64__MNXC3',\n",
       " 'BC_32401__64__MNXC3',\n",
       " 'BC_32877__64__MNXC3',\n",
       " 'MNXM10__64__MNXC3',\n",
       " 'MNXM188__64__MNXC3',\n",
       " 'BC_26705__64__MNXC3',\n",
       " 'RP1']"
      ]
     },
     "execution_count": 12,
     "metadata": {},
     "output_type": "execute_result"
    }
   ],
   "source": [
    "rpgraph.G.nodes()"
   ]
  },
  {
   "cell_type": "code",
   "execution_count": 15,
   "metadata": {},
   "outputs": [
    {
     "data": {
      "text/plain": [
       "{}"
      ]
     },
     "execution_count": 15,
     "metadata": {},
     "output_type": "execute_result"
    }
   ],
   "source": [
    "rpgraph.G.node.get('RP1')"
   ]
  },
  {
   "cell_type": "code",
   "execution_count": 17,
   "metadata": {},
   "outputs": [
    {
     "data": {
      "text/plain": [
       "18"
      ]
     },
     "execution_count": 17,
     "metadata": {},
     "output_type": "execute_result"
    }
   ],
   "source": [
    "rpgraph.num_reactions"
   ]
  },
  {
   "cell_type": "code",
   "execution_count": 13,
   "metadata": {},
   "outputs": [
    {
     "data": {
      "text/plain": [
       "[('RP2', 'CMPD_0000000003__64__MNXC3'),\n",
       " ('RP2', 'BC_20662__64__MNXC3'),\n",
       " ('RP2', 'BC_32401__64__MNXC3'),\n",
       " ('RP2', 'BC_32877__64__MNXC3'),\n",
       " ('CMPD_0000000003__64__MNXC3', 'RP1'),\n",
       " ('MNXM4__64__MNXC3', 'RP1'),\n",
       " ('MNXM4__64__MNXC3', 'RP2'),\n",
       " ('MNXM10__64__MNXC3', 'RP2'),\n",
       " ('MNXM188__64__MNXC3', 'RP2'),\n",
       " ('BC_26705__64__MNXC3', 'RP2'),\n",
       " ('RP1', 'TARGET_0000000001__64__MNXC3')]"
      ]
     },
     "execution_count": 13,
     "metadata": {},
     "output_type": "execute_result"
    }
   ],
   "source": [
    "rpgraph.G.edges()"
   ]
  },
  {
   "cell_type": "code",
   "execution_count": 8,
   "metadata": {},
   "outputs": [
    {
     "data": {
      "text/plain": [
       "{'TARGET_0000000001__64__MNXC3': {'stoichio': 1.0}}"
      ]
     },
     "execution_count": 8,
     "metadata": {},
     "output_type": "execute_result"
    }
   ],
   "source": [
    "rpgraph.G.edge.get('RP1')"
   ]
  },
  {
   "cell_type": "code",
   "execution_count": 9,
   "metadata": {},
   "outputs": [
    {
     "data": {
      "text/plain": [
       "{'type': 'species',\n",
       " 'name': 'TARGET_0000000001',\n",
       " 'miriam': {'inchikey': ['TXXHDPDFNKHHGW-UHFFFAOYSA-N']},\n",
       " 'brsynth': {'dfG_prime_m': {'units': 'kj_per_mol',\n",
       "   'value': -361.15137023937325},\n",
       "  'dfG_uncert': {'units': 'kj_per_mol', 'value': 4.684236640351952},\n",
       "  'dfG_prime_o': {'units': 'kj_per_mol', 'value': -344.03653270465225},\n",
       "  'smiles': '[H]OC(=O)C([H])=C([H])C([H])=C([H])C(=O)O[H]',\n",
       "  'inchi': 'InChI=1S/C6H6O4/c7-5(8)3-1-2-4-6(9)10/h1-4H,(H,7,8)(H,9,10)',\n",
       "  'inchikey': 'TXXHDPDFNKHHGW-UHFFFAOYSA-N'},\n",
       " 'central_species': True}"
      ]
     },
     "execution_count": 9,
     "metadata": {},
     "output_type": "execute_result"
    }
   ],
   "source": [
    "rpgraph.G.node.get('TARGET_0000000001__64__MNXC3')"
   ]
  },
  {
   "cell_type": "code",
   "execution_count": 10,
   "metadata": {},
   "outputs": [
    {
     "data": {
      "text/plain": [
       "['CMPD_0000000003__64__MNXC3', 'MNXM4__64__MNXC3']"
      ]
     },
     "execution_count": 10,
     "metadata": {},
     "output_type": "execute_result"
    }
   ],
   "source": [
    "rpgraph.G.predecessors('RP1')"
   ]
  },
  {
   "cell_type": "code",
   "execution_count": 11,
   "metadata": {},
   "outputs": [
    {
     "data": {
      "text/plain": [
       "['TARGET_0000000001__64__MNXC3']"
      ]
     },
     "execution_count": 11,
     "metadata": {},
     "output_type": "execute_result"
    }
   ],
   "source": [
    "rpgraph.G.successors('RP1')"
   ]
  },
  {
   "cell_type": "code",
   "execution_count": 12,
   "metadata": {},
   "outputs": [
    {
     "data": {
      "text/plain": [
       "['MNXM10__64__MNXC3',\n",
       " 'MNXM188__64__MNXC3',\n",
       " 'MNXM4__64__MNXC3',\n",
       " 'BC_26705__64__MNXC3']"
      ]
     },
     "execution_count": 12,
     "metadata": {},
     "output_type": "execute_result"
    }
   ],
   "source": [
    "rpgraph.G.predecessors('RP2')"
   ]
  },
  {
   "cell_type": "code",
   "execution_count": null,
   "metadata": {},
   "outputs": [],
   "source": []
  },
  {
   "cell_type": "code",
   "execution_count": 13,
   "metadata": {},
   "outputs": [
    {
     "data": {
      "text/plain": [
       "['CMPD_0000000003__64__MNXC3',\n",
       " 'BC_20662__64__MNXC3',\n",
       " 'BC_32401__64__MNXC3',\n",
       " 'BC_32877__64__MNXC3']"
      ]
     },
     "execution_count": 13,
     "metadata": {},
     "output_type": "execute_result"
    }
   ],
   "source": [
    "rpgraph.G.successors('RP2')"
   ]
  },
  {
   "cell_type": "code",
   "execution_count": 14,
   "metadata": {},
   "outputs": [],
   "source": [
    "a= rpgraph.G.node.get('MNXM10__64__MNXC3')"
   ]
  },
  {
   "cell_type": "code",
   "execution_count": 15,
   "metadata": {},
   "outputs": [
    {
     "data": {
      "text/plain": [
       "'InChI=1S/C21H29N7O14P2/c22-17-12-19(25-7-24-17)28(8-26-12)21-16(32)14(30)11(41-21)6-39-44(36,37)42-43(34,35)38-5-10-13(29)15(31)20(40-10)27-3-1-2-9(4-27)18(23)33/h1,3-4,7-8,10-11,13-16,20-21,29-32H,2,5-6H2,(H2,23,33)(H,34,35)(H,36,37)(H2,22,24,25)/p-2/t10-,11-,13-,14-,15-,16-,20-,21-/m1/s1'"
      ]
     },
     "execution_count": 15,
     "metadata": {},
     "output_type": "execute_result"
    }
   ],
   "source": [
    "a['brsynth']['inchi']"
   ]
  },
  {
   "cell_type": "code",
   "execution_count": 16,
   "metadata": {},
   "outputs": [],
   "source": [
    "tmp = '''<svg xmlns=\"http://www.w3.org/2000/svg\" xmlns:xlink=\"http://www.w3.org/1999/xlink\"\n",
    "     width=\"80\" height=\"400\" viewBox=\"0 -400 80 400\">\n",
    "<defs>\n",
    "</defs>\n",
    "<rect x=\"0\" y=\"-400\" width=\"80\" height=\"400\" fill=\"#FFFFFF\" />\n",
    "<rect x=\"0\" y=\"-400.0\" width=\"80\" height=\"180.0\" fill=\"#ddd\" stroke-width=\"2\" stroke=\"black\" />\n",
    "</svg>'''"
   ]
  },
  {
   "cell_type": "code",
   "execution_count": 8,
   "metadata": {},
   "outputs": [
    {
     "data": {
      "text/plain": [
       "317"
      ]
     },
     "execution_count": 8,
     "metadata": {},
     "output_type": "execute_result"
    }
   ],
   "source": [
    "open('rec.svg', 'w').write(tmp)"
   ]
  },
  {
   "cell_type": "code",
   "execution_count": 7,
   "metadata": {},
   "outputs": [
    {
     "data": {
      "text/plain": [
       "2"
      ]
     },
     "execution_count": 7,
     "metadata": {},
     "output_type": "execute_result"
    }
   ],
   "source": [
    "len(pathway_svgs)"
   ]
  },
  {
   "cell_type": "code",
   "execution_count": 8,
   "metadata": {},
   "outputs": [
    {
     "data": {
      "text/plain": [
       "dict_keys(['svg', 'x_len', 'y_len'])"
      ]
     },
     "execution_count": 8,
     "metadata": {},
     "output_type": "execute_result"
    }
   ],
   "source": [
    "pathway_svgs[0].keys()"
   ]
  },
  {
   "cell_type": "code",
   "execution_count": 9,
   "metadata": {},
   "outputs": [
    {
     "data": {
      "text/plain": [
       "23139"
      ]
     },
     "execution_count": 9,
     "metadata": {},
     "output_type": "execute_result"
    }
   ],
   "source": [
    "open('pathway_svgs1.svg', 'w').write(pathway_svgs[0]['svg'])"
   ]
  },
  {
   "cell_type": "code",
   "execution_count": 10,
   "metadata": {},
   "outputs": [
    {
     "data": {
      "text/plain": [
       "2533"
      ]
     },
     "execution_count": 10,
     "metadata": {},
     "output_type": "execute_result"
    }
   ],
   "source": [
    "open('pathway_svgs2.svg', 'w').write(pathway_svgs[1]['svg'])"
   ]
  },
  {
   "cell_type": "code",
   "execution_count": 11,
   "metadata": {},
   "outputs": [
    {
     "data": {
      "text/plain": [
       "350"
      ]
     },
     "execution_count": 11,
     "metadata": {},
     "output_type": "execute_result"
    }
   ],
   "source": [
    "pathway_svgs[0]['x_len']"
   ]
  },
  {
   "cell_type": "code",
   "execution_count": 13,
   "metadata": {},
   "outputs": [
    {
     "data": {
      "text/plain": [
       "350"
      ]
     },
     "execution_count": 13,
     "metadata": {},
     "output_type": "execute_result"
    }
   ],
   "source": [
    "pathway_svgs[1]['x_len']"
   ]
  },
  {
   "cell_type": "code",
   "execution_count": null,
   "metadata": {},
   "outputs": [],
   "source": []
  }
 ],
 "metadata": {
  "kernelspec": {
   "display_name": "Python 3",
   "language": "python",
   "name": "python3"
  },
  "language_info": {
   "codemirror_mode": {
    "name": "ipython",
    "version": 3
   },
   "file_extension": ".py",
   "mimetype": "text/x-python",
   "name": "python",
   "nbconvert_exporter": "python",
   "pygments_lexer": "ipython3",
   "version": "3.6.8"
  }
 },
 "nbformat": 4,
 "nbformat_minor": 2
}
